{
 "cells": [
  {
   "cell_type": "code",
   "execution_count": 19,
   "id": "7ebc5cb9",
   "metadata": {},
   "outputs": [],
   "source": [
    "import pandas as pd\n",
    "import numpy as np\n",
    "import re\n",
    "import sys\n",
    "import matplotlib.pyplot as plt\n",
    "from matplotlib.ticker import PercentFormatter"
   ]
  },
  {
   "cell_type": "markdown",
   "id": "62faa53d",
   "metadata": {},
   "source": [
    "## Basic View of Dataset"
   ]
  },
  {
   "cell_type": "code",
   "execution_count": 20,
   "id": "54f30973",
   "metadata": {},
   "outputs": [
    {
     "data": {
      "text/html": [
       "<div>\n",
       "<style scoped>\n",
       "    .dataframe tbody tr th:only-of-type {\n",
       "        vertical-align: middle;\n",
       "    }\n",
       "\n",
       "    .dataframe tbody tr th {\n",
       "        vertical-align: top;\n",
       "    }\n",
       "\n",
       "    .dataframe thead th {\n",
       "        text-align: right;\n",
       "    }\n",
       "</style>\n",
       "<table border=\"1\" class=\"dataframe\">\n",
       "  <thead>\n",
       "    <tr style=\"text-align: right;\">\n",
       "      <th></th>\n",
       "      <th>url</th>\n",
       "      <th>category</th>\n",
       "      <th>year</th>\n",
       "      <th>role</th>\n",
       "      <th>Name</th>\n",
       "      <th>City</th>\n",
       "      <th>Country</th>\n",
       "      <th>Gender</th>\n",
       "      <th>Profession</th>\n",
       "      <th>Year, Birth</th>\n",
       "      <th>Year, Death</th>\n",
       "      <th>University</th>\n",
       "      <th>prize_status</th>\n",
       "      <th>State</th>\n",
       "      <th>Department</th>\n",
       "      <th>is_winner</th>\n",
       "    </tr>\n",
       "  </thead>\n",
       "  <tbody>\n",
       "    <tr>\n",
       "      <th>0</th>\n",
       "      <td>https//www.nobelprize.org/nomination/archive/s...</td>\n",
       "      <td>Nomination for Nobel Peace Prize</td>\n",
       "      <td>1959</td>\n",
       "      <td>Nominee</td>\n",
       "      <td>Women´s International League for Peace and F...</td>\n",
       "      <td>Geneva</td>\n",
       "      <td>SWITZERLAND (CH)</td>\n",
       "      <td>M</td>\n",
       "      <td>NaN</td>\n",
       "      <td>NaN</td>\n",
       "      <td>NaN</td>\n",
       "      <td>NaN</td>\n",
       "      <td>NaN</td>\n",
       "      <td>NaN</td>\n",
       "      <td>NaN</td>\n",
       "      <td>False</td>\n",
       "    </tr>\n",
       "    <tr>\n",
       "      <th>1</th>\n",
       "      <td>https//www.nobelprize.org/nomination/archive/s...</td>\n",
       "      <td>Nomination for Nobel Peace Prize</td>\n",
       "      <td>1959</td>\n",
       "      <td>Nominator</td>\n",
       "      <td>Inger  Segerstedt Wiberg</td>\n",
       "      <td>NaN</td>\n",
       "      <td>SWEDEN (SE)</td>\n",
       "      <td>F</td>\n",
       "      <td>Member of Parliament</td>\n",
       "      <td>NaN</td>\n",
       "      <td>NaN</td>\n",
       "      <td>NaN</td>\n",
       "      <td>NaN</td>\n",
       "      <td>NaN</td>\n",
       "      <td>NaN</td>\n",
       "      <td>False</td>\n",
       "    </tr>\n",
       "    <tr>\n",
       "      <th>2</th>\n",
       "      <td>https//www.nobelprize.org/nomination/archive/s...</td>\n",
       "      <td>Nomination for Nobel Prize in Physics</td>\n",
       "      <td>1901</td>\n",
       "      <td>Nominee</td>\n",
       "      <td>William W Campbell</td>\n",
       "      <td>NaN</td>\n",
       "      <td>UNITED STATES (US)</td>\n",
       "      <td>M</td>\n",
       "      <td>NaN</td>\n",
       "      <td>1862.0</td>\n",
       "      <td>1938.0</td>\n",
       "      <td>NaN</td>\n",
       "      <td>NaN</td>\n",
       "      <td>NaN</td>\n",
       "      <td>NaN</td>\n",
       "      <td>False</td>\n",
       "    </tr>\n",
       "    <tr>\n",
       "      <th>3</th>\n",
       "      <td>https//www.nobelprize.org/nomination/archive/s...</td>\n",
       "      <td>Nomination for Nobel Prize in Physics</td>\n",
       "      <td>1901</td>\n",
       "      <td>Nominee</td>\n",
       "      <td>Svante A Arrhenius</td>\n",
       "      <td>Stockholm</td>\n",
       "      <td>SWEDEN (SE)</td>\n",
       "      <td>M</td>\n",
       "      <td>NaN</td>\n",
       "      <td>1859.0</td>\n",
       "      <td>1927.0</td>\n",
       "      <td>Stockholm University</td>\n",
       "      <td>Awarded the Nobel Prize in Chemistry</td>\n",
       "      <td>NaN</td>\n",
       "      <td>NaN</td>\n",
       "      <td>True</td>\n",
       "    </tr>\n",
       "    <tr>\n",
       "      <th>4</th>\n",
       "      <td>https//www.nobelprize.org/nomination/archive/s...</td>\n",
       "      <td>Nomination for Nobel Prize in Physics</td>\n",
       "      <td>1901</td>\n",
       "      <td>Nominee</td>\n",
       "      <td>Svante A Arrhenius</td>\n",
       "      <td>Stockholm</td>\n",
       "      <td>SWEDEN (SE)</td>\n",
       "      <td>M</td>\n",
       "      <td>NaN</td>\n",
       "      <td>1859.0</td>\n",
       "      <td>1927.0</td>\n",
       "      <td>Stockholm University</td>\n",
       "      <td>Awarded the Nobel Prize in Chemistry</td>\n",
       "      <td>NaN</td>\n",
       "      <td>NaN</td>\n",
       "      <td>True</td>\n",
       "    </tr>\n",
       "    <tr>\n",
       "      <th>...</th>\n",
       "      <td>...</td>\n",
       "      <td>...</td>\n",
       "      <td>...</td>\n",
       "      <td>...</td>\n",
       "      <td>...</td>\n",
       "      <td>...</td>\n",
       "      <td>...</td>\n",
       "      <td>...</td>\n",
       "      <td>...</td>\n",
       "      <td>...</td>\n",
       "      <td>...</td>\n",
       "      <td>...</td>\n",
       "      <td>...</td>\n",
       "      <td>...</td>\n",
       "      <td>...</td>\n",
       "      <td>...</td>\n",
       "    </tr>\n",
       "    <tr>\n",
       "      <th>40934</th>\n",
       "      <td>https//www.nobelprize.org/nomination/archive/s...</td>\n",
       "      <td>Nomination for Nobel Peace Prize</td>\n",
       "      <td>1964</td>\n",
       "      <td>Nominator</td>\n",
       "      <td>2 members of Yugoslav parliament</td>\n",
       "      <td>NaN</td>\n",
       "      <td>YUGOSLAVIA (YU)</td>\n",
       "      <td>M</td>\n",
       "      <td>NaN</td>\n",
       "      <td>NaN</td>\n",
       "      <td>NaN</td>\n",
       "      <td>NaN</td>\n",
       "      <td>NaN</td>\n",
       "      <td>NaN</td>\n",
       "      <td>NaN</td>\n",
       "      <td>False</td>\n",
       "    </tr>\n",
       "    <tr>\n",
       "      <th>40935</th>\n",
       "      <td>https//www.nobelprize.org/nomination/archive/s...</td>\n",
       "      <td>Nomination for Nobel Peace Prize</td>\n",
       "      <td>1964</td>\n",
       "      <td>Nominee</td>\n",
       "      <td>Norman  Thomas</td>\n",
       "      <td>NaN</td>\n",
       "      <td>UNITED STATES (US)</td>\n",
       "      <td>M</td>\n",
       "      <td>American politician</td>\n",
       "      <td>1884.0</td>\n",
       "      <td>1968.0</td>\n",
       "      <td>NaN</td>\n",
       "      <td>NaN</td>\n",
       "      <td>NaN</td>\n",
       "      <td>NaN</td>\n",
       "      <td>False</td>\n",
       "    </tr>\n",
       "    <tr>\n",
       "      <th>40936</th>\n",
       "      <td>https//www.nobelprize.org/nomination/archive/s...</td>\n",
       "      <td>Nomination for Nobel Peace Prize</td>\n",
       "      <td>1964</td>\n",
       "      <td>Nominator</td>\n",
       "      <td>John P Roche</td>\n",
       "      <td>NaN</td>\n",
       "      <td>NaN</td>\n",
       "      <td>M</td>\n",
       "      <td>NaN</td>\n",
       "      <td>NaN</td>\n",
       "      <td>NaN</td>\n",
       "      <td>NaN</td>\n",
       "      <td>NaN</td>\n",
       "      <td>NaN</td>\n",
       "      <td>NaN</td>\n",
       "      <td>False</td>\n",
       "    </tr>\n",
       "    <tr>\n",
       "      <th>40937</th>\n",
       "      <td>https//www.nobelprize.org/nomination/archive/s...</td>\n",
       "      <td>Nomination for Nobel Peace Prize</td>\n",
       "      <td>1964</td>\n",
       "      <td>Nominee</td>\n",
       "      <td>World Veterans Federation (Fédération Mondia...</td>\n",
       "      <td>Paris</td>\n",
       "      <td>FRANCE (FR)</td>\n",
       "      <td>M</td>\n",
       "      <td>NaN</td>\n",
       "      <td>NaN</td>\n",
       "      <td>NaN</td>\n",
       "      <td>NaN</td>\n",
       "      <td>NaN</td>\n",
       "      <td>NaN</td>\n",
       "      <td>NaN</td>\n",
       "      <td>False</td>\n",
       "    </tr>\n",
       "    <tr>\n",
       "      <th>40938</th>\n",
       "      <td>https//www.nobelprize.org/nomination/archive/s...</td>\n",
       "      <td>Nomination for Nobel Peace Prize</td>\n",
       "      <td>1964</td>\n",
       "      <td>Nominator</td>\n",
       "      <td>Maya  Devi Chettry</td>\n",
       "      <td>NaN</td>\n",
       "      <td>INDIA (IN)</td>\n",
       "      <td>M</td>\n",
       "      <td>Member of the Indian parliament</td>\n",
       "      <td>NaN</td>\n",
       "      <td>NaN</td>\n",
       "      <td>NaN</td>\n",
       "      <td>NaN</td>\n",
       "      <td>NaN</td>\n",
       "      <td>NaN</td>\n",
       "      <td>False</td>\n",
       "    </tr>\n",
       "  </tbody>\n",
       "</table>\n",
       "<p>40939 rows × 16 columns</p>\n",
       "</div>"
      ],
      "text/plain": [
       "                                                     url  \\\n",
       "0      https//www.nobelprize.org/nomination/archive/s...   \n",
       "1      https//www.nobelprize.org/nomination/archive/s...   \n",
       "2      https//www.nobelprize.org/nomination/archive/s...   \n",
       "3      https//www.nobelprize.org/nomination/archive/s...   \n",
       "4      https//www.nobelprize.org/nomination/archive/s...   \n",
       "...                                                  ...   \n",
       "40934  https//www.nobelprize.org/nomination/archive/s...   \n",
       "40935  https//www.nobelprize.org/nomination/archive/s...   \n",
       "40936  https//www.nobelprize.org/nomination/archive/s...   \n",
       "40937  https//www.nobelprize.org/nomination/archive/s...   \n",
       "40938  https//www.nobelprize.org/nomination/archive/s...   \n",
       "\n",
       "                                    category  year       role  \\\n",
       "0           Nomination for Nobel Peace Prize  1959    Nominee   \n",
       "1           Nomination for Nobel Peace Prize  1959  Nominator   \n",
       "2      Nomination for Nobel Prize in Physics  1901    Nominee   \n",
       "3      Nomination for Nobel Prize in Physics  1901    Nominee   \n",
       "4      Nomination for Nobel Prize in Physics  1901    Nominee   \n",
       "...                                      ...   ...        ...   \n",
       "40934       Nomination for Nobel Peace Prize  1964  Nominator   \n",
       "40935       Nomination for Nobel Peace Prize  1964    Nominee   \n",
       "40936       Nomination for Nobel Peace Prize  1964  Nominator   \n",
       "40937       Nomination for Nobel Peace Prize  1964    Nominee   \n",
       "40938       Nomination for Nobel Peace Prize  1964  Nominator   \n",
       "\n",
       "                                                    Name       City  \\\n",
       "0        Women´s International League for Peace and F...     Geneva   \n",
       "1                               Inger  Segerstedt Wiberg        NaN   \n",
       "2                                     William W Campbell        NaN   \n",
       "3                                     Svante A Arrhenius  Stockholm   \n",
       "4                                     Svante A Arrhenius  Stockholm   \n",
       "...                                                  ...        ...   \n",
       "40934                   2 members of Yugoslav parliament        NaN   \n",
       "40935                                     Norman  Thomas        NaN   \n",
       "40936                                       John P Roche        NaN   \n",
       "40937    World Veterans Federation (Fédération Mondia...      Paris   \n",
       "40938                                 Maya  Devi Chettry        NaN   \n",
       "\n",
       "                   Country Gender                       Profession  \\\n",
       "0        SWITZERLAND (CH)       M                              NaN   \n",
       "1             SWEDEN (SE)       F             Member of Parliament   \n",
       "2      UNITED STATES (US)       M                              NaN   \n",
       "3             SWEDEN (SE)       M                              NaN   \n",
       "4             SWEDEN (SE)       M                              NaN   \n",
       "...                    ...    ...                              ...   \n",
       "40934     YUGOSLAVIA (YU)       M                              NaN   \n",
       "40935  UNITED STATES (US)       M              American politician   \n",
       "40936                  NaN      M                              NaN   \n",
       "40937         FRANCE (FR)       M                              NaN   \n",
       "40938          INDIA (IN)       M  Member of the Indian parliament   \n",
       "\n",
       "       Year, Birth  Year, Death            University  \\\n",
       "0              NaN          NaN                   NaN   \n",
       "1              NaN          NaN                   NaN   \n",
       "2           1862.0       1938.0                   NaN   \n",
       "3           1859.0       1927.0  Stockholm University   \n",
       "4           1859.0       1927.0  Stockholm University   \n",
       "...            ...          ...                   ...   \n",
       "40934          NaN          NaN                   NaN   \n",
       "40935       1884.0       1968.0                   NaN   \n",
       "40936          NaN          NaN                   NaN   \n",
       "40937          NaN          NaN                   NaN   \n",
       "40938          NaN          NaN                   NaN   \n",
       "\n",
       "                               prize_status State Department  is_winner  \n",
       "0                                       NaN   NaN        NaN      False  \n",
       "1                                       NaN   NaN        NaN      False  \n",
       "2                                       NaN   NaN        NaN      False  \n",
       "3      Awarded the Nobel Prize in Chemistry   NaN        NaN       True  \n",
       "4      Awarded the Nobel Prize in Chemistry   NaN        NaN       True  \n",
       "...                                     ...   ...        ...        ...  \n",
       "40934                                   NaN   NaN        NaN      False  \n",
       "40935                                   NaN   NaN        NaN      False  \n",
       "40936                                   NaN   NaN        NaN      False  \n",
       "40937                                   NaN   NaN        NaN      False  \n",
       "40938                                   NaN   NaN        NaN      False  \n",
       "\n",
       "[40939 rows x 16 columns]"
      ]
     },
     "execution_count": 20,
     "metadata": {},
     "output_type": "execute_result"
    }
   ],
   "source": [
    "nobel_data = pd.read_json('nobel_data.json')\n",
    "nobel_data['is_winner'] = nobel_data['prize_status'].notnull()\n",
    "\n",
    "#Dealing with input errors from data, where nonsense character is assigned to gender\n",
    "nobel_data.loc[(nobel_data['Gender'] != 'M') & (nobel_data['Gender'] != 'F'), 'Gender'] = 'M'\n",
    "\n",
    "nobel_data"
   ]
  },
  {
   "cell_type": "code",
   "execution_count": 21,
   "id": "52ebe990",
   "metadata": {},
   "outputs": [],
   "source": [
    "nominators = nobel_data[nobel_data['role'] == \"Nominator\"]\n",
    "nominees = nobel_data[nobel_data['role'] == \"Nominee\"]"
   ]
  },
  {
   "cell_type": "markdown",
   "id": "6dd8e7e0",
   "metadata": {},
   "source": [
    "## Nominee Winning Percentage"
   ]
  },
  {
   "cell_type": "code",
   "execution_count": 22,
   "id": "baff6203",
   "metadata": {},
   "outputs": [
    {
     "name": "stdout",
     "output_type": "stream",
     "text": [
      "Number of winners:  373\n",
      "Winning %:  11.438209138301135\n"
     ]
    }
   ],
   "source": [
    "unique_nominees = nominees.drop_duplicates(subset=['Name'])\n",
    "num_winners = unique_nominees['is_winner'].sum()\n",
    "print(\"Number of winners: \",num_winners)\n",
    "print(\"Winning %: \",(num_winners/len(unique_nominees.index)) *100)"
   ]
  },
  {
   "cell_type": "code",
   "execution_count": null,
   "id": "c5a246bb",
   "metadata": {},
   "outputs": [],
   "source": []
  },
  {
   "cell_type": "markdown",
   "id": "d853c856",
   "metadata": {},
   "source": [
    "## Gender Proportion Plots"
   ]
  },
  {
   "cell_type": "code",
   "execution_count": 23,
   "id": "c974c998",
   "metadata": {},
   "outputs": [
    {
     "data": {
      "image/png": "[encoded data removed]",
      "text/plain": [
       "<Figure size 432x288 with 1 Axes>"
      ]
     },
     "metadata": {
      "needs_background": "light"
     },
     "output_type": "display_data"
    }
   ],
   "source": [
    "fig, ax = plt.subplots(1,1)\n",
    "unique_nominees['Gender'].value_counts(normalize = True).plot(kind = 'bar', ax=ax)\n",
    "\n",
    "for p in ax.patches:\n",
    "    txt = np.round(p.get_height(), decimals=2) * 100\n",
    "    ax.annotate(str(txt)+\"%\", (p.get_x() * 1.005, p.get_height() * 1.005))\n",
    "\n",
    "ax.set_title(\"Gender Proportions of Nobel Prize Nominees\")\n",
    "ax.set_xlabel(\"Gender\")\n",
    "ax.set_ylabel(\"Percentage of Total Nominees\")\n",
    "ax.yaxis.set_major_formatter(PercentFormatter(1))"
   ]
  },
  {
   "cell_type": "markdown",
   "id": "59e5d9d3",
   "metadata": {},
   "source": [
    "This plot represents the proportion of nominees in all categories over the total time period in which observations were recorded (1901-1967) that are male and female. Overall there is a whopping 96% of nominees who were male against only 4% female, showing a tremendous gender disparity"
   ]
  },
  {
   "cell_type": "code",
   "execution_count": 27,
   "id": "de44215b",
   "metadata": {},
   "outputs": [
    {
     "data": {
      "image/png": "[encoded data removed]",
      "text/plain": [
       "<Figure size 432x288 with 1 Axes>"
      ]
     },
     "metadata": {
      "needs_background": "light"
     },
     "output_type": "display_data"
    }
   ],
   "source": [
    "unique_nominators = nominators.drop_duplicates(subset=['Name'])\n",
    "\n",
    "fig, ax = plt.subplots(1,1)\n",
    "unique_nominators['Gender'].value_counts(normalize = True).plot(kind = 'bar', ax = ax)\n",
    "for p in ax.patches:\n",
    "    for p in ax.patches:\n",
    "        txt = np.round(p.get_height(), decimals=2) * 100\n",
    "        ax.annotate(str(txt)+\"%\", (p.get_x() * 1.005, p.get_height() * 1.005))\n",
    "\n",
    "ax.set_title(\"Gender Proportions of Nobel Prize Nominators\")\n",
    "ax.set_xlabel(\"Gender\")\n",
    "ax.set_ylabel(\"Percentage of Total Nominators\")\n",
    "ax.yaxis.set_major_formatter(PercentFormatter(1))"
   ]
  },
  {
   "cell_type": "markdown",
   "id": "b22b9914",
   "metadata": {},
   "source": [
    "This plot captures the proportion of nominators that were male and female. The gender disparity is even more profound with the nominators, with 99% being male to 1% being female."
   ]
  },
  {
   "cell_type": "code",
   "execution_count": 30,
   "id": "dca2983a",
   "metadata": {},
   "outputs": [
    {
     "data": {
      "text/plain": [
       "Text(0.5, 0, 'Year')"
      ]
     },
     "execution_count": 30,
     "metadata": {},
     "output_type": "execute_result"
    },
    {
     "data": {
      "image/png": "[encoded data removed]",
      "text/plain": [
       "<Figure size 432x288 with 1 Axes>"
      ]
     },
     "metadata": {
      "needs_background": "light"
     },
     "output_type": "display_data"
    }
   ],
   "source": [
    "fig, ax = plt.subplots(1,1)\n",
    "nominees_gender = nominees.groupby('year')['Gender'].value_counts(normalize=True).unstack()\n",
    "nominees_gender.plot(kind ='area', legend = True, ax=ax)\n",
    "ax.set_title(\"Gender Proportions for Nominees Over Time\")\n",
    "ax.set_ylabel(\"Proportion\")\n",
    "ax.set_xlabel(\"Year\")"
   ]
  },
  {
   "cell_type": "code",
   "execution_count": 43,
   "id": "fbb07478",
   "metadata": {},
   "outputs": [
    {
     "data": {
      "text/plain": [
       "Text(0.5, 0, 'Year')"
      ]
     },
     "execution_count": 43,
     "metadata": {},
     "output_type": "execute_result"
    },
    {
     "data": {
      "image/png": "[encoded data removed]",
      "text/plain": [
       "<Figure size 432x288 with 1 Axes>"
      ]
     },
     "metadata": {
      "needs_background": "light"
     },
     "output_type": "display_data"
    }
   ],
   "source": [
    "fig, ax = plt.subplots(1,1)\n",
    "nominators_gender = nominators.groupby('year')['Gender'].value_counts(normalize=True).unstack()\n",
    "nominators_gender.plot(kind ='area', legend = True, ax=ax)\n",
    "ax.set_title(\"Gender Proportions for Nominators Over Time\")\n",
    "ax.set_ylabel(\"Proportion\")\n",
    "ax.set_xlabel(\"Year\")"
   ]
  },
  {
   "cell_type": "markdown",
   "id": "5b891502",
   "metadata": {},
   "source": [
    "## Gender Proportions By Category"
   ]
  },
  {
   "cell_type": "code",
   "execution_count": 44,
   "id": "73695583",
   "metadata": {},
   "outputs": [
    {
     "data": {
      "image/png": "[encoded data removed]",
      "text/plain": [
       "<Figure size 2520x648 with 5 Axes>"
      ]
     },
     "metadata": {
      "needs_background": "light"
     },
     "output_type": "display_data"
    }
   ],
   "source": [
    "fig, axes = plt.subplots(1,5, figsize = (35,9))\n",
    "fig.suptitle(\"Nominees Gender Percentages By Prize Category\")\n",
    "\n",
    "nominees_grouped = nominees.groupby('category')\n",
    "# nominees.groupby('category')['Gender'].value_counts(normalize = True).unstack().plot(kind = 'bar', legend = True, ax=ax)\n",
    "plot_areas = zip(nominees_grouped.groups.keys(), axes.flatten()) # creates list so that I can match plotting axes with group keys when I iterate\n",
    "\n",
    "#Helper function to fix string formatting\n",
    "def getSubtitle(key):\n",
    "    if \"Peace\" in key:\n",
    "        return \"Peace\"\n",
    "    else:\n",
    "        return key.split(\" \")[-1]\n",
    "\n",
    "for idx, (key, ax) in enumerate(plot_areas):\n",
    "    group = nominees_grouped.get_group(key)\n",
    "    subtitle = getSubtitle(key)\n",
    "    group['Gender'].value_counts(normalize = True).round(4).plot(kind = 'bar', legend = True, ax=ax)\n",
    "    ax.set_title(subtitle)\n",
    "    ax.set_xlabel(\"Gender\")\n",
    "    ax.set_ylabel(\"Percentage\")\n",
    "    ax.yaxis.set_major_formatter(PercentFormatter(1))\n",
    "    for p in ax.patches:\n",
    "        txt = np.round(p.get_height(), decimals=3) * 100\n",
    "        ax.annotate(str(txt)+\"%\", (p.get_x() * 1.005, p.get_height() * 1.005))"
   ]
  },
  {
   "cell_type": "code",
   "execution_count": 45,
   "id": "e5935952",
   "metadata": {},
   "outputs": [
    {
     "data": {
      "image/png": "[encoded data removed]",
      "text/plain": [
       "<Figure size 2520x648 with 5 Axes>"
      ]
     },
     "metadata": {
      "needs_background": "light"
     },
     "output_type": "display_data"
    }
   ],
   "source": [
    "fig, axes = plt.subplots(1,5, figsize = (35,9))\n",
    "fig.suptitle(\"Nominators Gender Percentages By Prize Category\")\n",
    "\n",
    "nominators_grouped = nominators.groupby('category')\n",
    "# nominees.groupby('category')['Gender'].value_counts(normalize = True).unstack().plot(kind = 'bar', legend = True, ax=ax)\n",
    "plot_areas = zip(nominators_grouped.groups.keys(), axes.flatten()) # creates list so that I can match plotting axes with group keys when I iterate\n",
    "\n",
    "for idx, (key, ax) in enumerate(plot_areas):\n",
    "    group = nominators_grouped.get_group(key)\n",
    "    subtitle = getSubtitle(key)\n",
    "    group['Gender'].value_counts(normalize = True).round(4).plot(kind = 'bar', legend = True, ax=ax)\n",
    "    ax.set_title(subtitle)\n",
    "    ax.set_xlabel(\"Gender\")\n",
    "    ax.set_ylabel(\"Percentage\")\n",
    "    ax.yaxis.set_major_formatter(PercentFormatter(1))\n",
    "    for p in ax.patches:\n",
    "    \ttxt = np.round(p.get_height(), decimals=3) * 100\n",
    "    \tax.annotate(str(txt)+\"%\", (p.get_x() * 1.005, p.get_height() * 1.005))"
   ]
  },
  {
   "cell_type": "markdown",
   "id": "d545ab45",
   "metadata": {},
   "source": [
    "### Is there at least marginally greater representation of women among winners?"
   ]
  },
  {
   "cell_type": "code",
   "execution_count": 46,
   "id": "d465cad5",
   "metadata": {},
   "outputs": [
    {
     "data": {
      "image/png": "[encoded data removed]",
      "text/plain": [
       "<Figure size 432x288 with 1 Axes>"
      ]
     },
     "metadata": {
      "needs_background": "light"
     },
     "output_type": "display_data"
    }
   ],
   "source": [
    "winners = unique_nominees[unique_nominees['is_winner'] == True]\n",
    "\n",
    "fig, ax = plt.subplots(1,1)\n",
    "winners['Gender'].value_counts(normalize = True).round(4).plot(kind = 'bar', ax=ax)\n",
    "\n",
    "for p in ax.patches:\n",
    "    ax.annotate(str(p.get_height()*100)+\"%\", (p.get_x() * 1.005, p.get_height() * 1.005))\n",
    "\n",
    "ax.set_title(\"Gender Proportions of Nobel Prize Winners\")\n",
    "ax.set_xlabel(\"Gender\")\n",
    "ax.set_ylabel(\"Percentage of Total Nominees\")\n",
    "ax.yaxis.set_major_formatter(PercentFormatter(1))"
   ]
  },
  {
   "cell_type": "markdown",
   "id": "b054e678",
   "metadata": {},
   "source": [
    "## Age Distributions Nominees/Nominators by overall/by category/binned changes in the distributions"
   ]
  },
  {
   "cell_type": "code",
   "execution_count": 47,
   "id": "8a75a149",
   "metadata": {},
   "outputs": [
    {
     "data": {
      "text/html": [
       "<div>\n",
       "<style scoped>\n",
       "    .dataframe tbody tr th:only-of-type {\n",
       "        vertical-align: middle;\n",
       "    }\n",
       "\n",
       "    .dataframe tbody tr th {\n",
       "        vertical-align: top;\n",
       "    }\n",
       "\n",
       "    .dataframe thead th {\n",
       "        text-align: right;\n",
       "    }\n",
       "</style>\n",
       "<table border=\"1\" class=\"dataframe\">\n",
       "  <thead>\n",
       "    <tr style=\"text-align: right;\">\n",
       "      <th></th>\n",
       "      <th>year</th>\n",
       "      <th>Year, Birth</th>\n",
       "      <th>Year, Death</th>\n",
       "    </tr>\n",
       "  </thead>\n",
       "  <tbody>\n",
       "    <tr>\n",
       "      <th>count</th>\n",
       "      <td>18792.000000</td>\n",
       "      <td>5229.000000</td>\n",
       "      <td>4912.000000</td>\n",
       "    </tr>\n",
       "    <tr>\n",
       "      <th>mean</th>\n",
       "      <td>1935.366379</td>\n",
       "      <td>1879.694397</td>\n",
       "      <td>1960.376221</td>\n",
       "    </tr>\n",
       "    <tr>\n",
       "      <th>std</th>\n",
       "      <td>19.709333</td>\n",
       "      <td>24.532483</td>\n",
       "      <td>25.842870</td>\n",
       "    </tr>\n",
       "    <tr>\n",
       "      <th>min</th>\n",
       "      <td>1901.000000</td>\n",
       "      <td>1647.000000</td>\n",
       "      <td>1885.000000</td>\n",
       "    </tr>\n",
       "    <tr>\n",
       "      <th>25%</th>\n",
       "      <td>1919.000000</td>\n",
       "      <td>1862.000000</td>\n",
       "      <td>1940.000000</td>\n",
       "    </tr>\n",
       "    <tr>\n",
       "      <th>50%</th>\n",
       "      <td>1935.000000</td>\n",
       "      <td>1882.000000</td>\n",
       "      <td>1964.000000</td>\n",
       "    </tr>\n",
       "    <tr>\n",
       "      <th>75%</th>\n",
       "      <td>1953.000000</td>\n",
       "      <td>1899.000000</td>\n",
       "      <td>1980.000000</td>\n",
       "    </tr>\n",
       "    <tr>\n",
       "      <th>max</th>\n",
       "      <td>1967.000000</td>\n",
       "      <td>1956.000000</td>\n",
       "      <td>2017.000000</td>\n",
       "    </tr>\n",
       "  </tbody>\n",
       "</table>\n",
       "</div>"
      ],
      "text/plain": [
       "               year  Year, Birth  Year, Death\n",
       "count  18792.000000  5229.000000  4912.000000\n",
       "mean    1935.366379  1879.694397  1960.376221\n",
       "std       19.709333    24.532483    25.842870\n",
       "min     1901.000000  1647.000000  1885.000000\n",
       "25%     1919.000000  1862.000000  1940.000000\n",
       "50%     1935.000000  1882.000000  1964.000000\n",
       "75%     1953.000000  1899.000000  1980.000000\n",
       "max     1967.000000  1956.000000  2017.000000"
      ]
     },
     "execution_count": 47,
     "metadata": {},
     "output_type": "execute_result"
    }
   ],
   "source": [
    "nominators.describe()"
   ]
  },
  {
   "cell_type": "code",
   "execution_count": 48,
   "id": "b769370e",
   "metadata": {},
   "outputs": [
    {
     "data": {
      "text/html": [
       "<div>\n",
       "<style scoped>\n",
       "    .dataframe tbody tr th:only-of-type {\n",
       "        vertical-align: middle;\n",
       "    }\n",
       "\n",
       "    .dataframe tbody tr th {\n",
       "        vertical-align: top;\n",
       "    }\n",
       "\n",
       "    .dataframe thead th {\n",
       "        text-align: right;\n",
       "    }\n",
       "</style>\n",
       "<table border=\"1\" class=\"dataframe\">\n",
       "  <thead>\n",
       "    <tr style=\"text-align: right;\">\n",
       "      <th></th>\n",
       "      <th>year</th>\n",
       "      <th>Year, Birth</th>\n",
       "      <th>Year, Death</th>\n",
       "    </tr>\n",
       "  </thead>\n",
       "  <tbody>\n",
       "    <tr>\n",
       "      <th>count</th>\n",
       "      <td>22147.000000</td>\n",
       "      <td>18225.000000</td>\n",
       "      <td>16785.000000</td>\n",
       "    </tr>\n",
       "    <tr>\n",
       "      <th>mean</th>\n",
       "      <td>1935.733824</td>\n",
       "      <td>1877.929712</td>\n",
       "      <td>1956.947036</td>\n",
       "    </tr>\n",
       "    <tr>\n",
       "      <th>std</th>\n",
       "      <td>19.591170</td>\n",
       "      <td>24.037674</td>\n",
       "      <td>25.266414</td>\n",
       "    </tr>\n",
       "    <tr>\n",
       "      <th>min</th>\n",
       "      <td>1901.000000</td>\n",
       "      <td>1647.000000</td>\n",
       "      <td>1901.000000</td>\n",
       "    </tr>\n",
       "    <tr>\n",
       "      <th>25%</th>\n",
       "      <td>1920.000000</td>\n",
       "      <td>1861.000000</td>\n",
       "      <td>1938.000000</td>\n",
       "    </tr>\n",
       "    <tr>\n",
       "      <th>50%</th>\n",
       "      <td>1935.000000</td>\n",
       "      <td>1878.000000</td>\n",
       "      <td>1960.000000</td>\n",
       "    </tr>\n",
       "    <tr>\n",
       "      <th>75%</th>\n",
       "      <td>1953.000000</td>\n",
       "      <td>1896.000000</td>\n",
       "      <td>1974.000000</td>\n",
       "    </tr>\n",
       "    <tr>\n",
       "      <th>max</th>\n",
       "      <td>1967.000000</td>\n",
       "      <td>1987.000000</td>\n",
       "      <td>2019.000000</td>\n",
       "    </tr>\n",
       "  </tbody>\n",
       "</table>\n",
       "</div>"
      ],
      "text/plain": [
       "               year   Year, Birth   Year, Death\n",
       "count  22147.000000  18225.000000  16785.000000\n",
       "mean    1935.733824   1877.929712   1956.947036\n",
       "std       19.591170     24.037674     25.266414\n",
       "min     1901.000000   1647.000000   1901.000000\n",
       "25%     1920.000000   1861.000000   1938.000000\n",
       "50%     1935.000000   1878.000000   1960.000000\n",
       "75%     1953.000000   1896.000000   1974.000000\n",
       "max     1967.000000   1987.000000   2019.000000"
      ]
     },
     "execution_count": 48,
     "metadata": {},
     "output_type": "execute_result"
    }
   ],
   "source": [
    "nominees.describe()"
   ]
  },
  {
   "cell_type": "code",
   "execution_count": null,
   "id": "a7950b6c",
   "metadata": {},
   "outputs": [],
   "source": []
  }
 ],
 "metadata": {
  "hide_input": false,
  "kernelspec": {
   "display_name": "Python 3 (ipykernel)",
   "language": "python",
   "name": "python3"
  },
  "language_info": {
   "codemirror_mode": {
    "name": "ipython",
    "version": 3
   },
   "file_extension": ".py",
   "mimetype": "text/x-python",
   "name": "python",
   "nbconvert_exporter": "python",
   "pygments_lexer": "ipython3",
   "version": "3.9.5"
  }
 },
 "nbformat": 4,
 "nbformat_minor": 5
}
