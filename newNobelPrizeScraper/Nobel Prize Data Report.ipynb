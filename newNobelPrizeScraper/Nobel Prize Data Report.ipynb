{
 "cells": [
  {
   "cell_type": "code",
   "execution_count": 9,
   "id": "7ebc5cb9",
   "metadata": {},
   "outputs": [
    {
     "name": "stdout",
     "output_type": "stream",
     "text": [
      "/Users/ravipanguluri/Documents/NobelPrize/newNobelPrizeScraper\n"
     ]
    }
   ],
   "source": [
    "import pandas as pd\n",
    "import numpy as np\n",
    "import re\n",
    "import sys\n",
    "import matplotlib.pyplot as plt\n",
    "from matplotlib.ticker import PercentFormatter\n",
    "import warnings\n",
    "warnings.filterwarnings('ignore')\n",
    "import os\n",
    "basePath = '/Users/ravipanguluri/Documents/NobelPrize/newNobelPrizeScraper/'\n",
    "print(os.getcwd())"
   ]
  },
  {
   "cell_type": "markdown",
   "id": "62faa53d",
   "metadata": {},
   "source": [
    "## Basic View of Dataset"
   ]
  },
  {
   "cell_type": "code",
   "execution_count": 11,
   "id": "54f30973",
   "metadata": {},
   "outputs": [
    {
     "ename": "ValueError",
     "evalue": "Expected object or value",
     "output_type": "error",
     "traceback": [
      "\u001b[0;31m---------------------------------------------------------------------------\u001b[0m",
      "\u001b[0;31mValueError\u001b[0m                                Traceback (most recent call last)",
      "\u001b[0;32m/var/folders/sf/z2b9zp717xb2vw6wy0l0_jh00000gn/T/ipykernel_76706/7179983.py\u001b[0m in \u001b[0;36m<module>\u001b[0;34m\u001b[0m\n\u001b[0;32m----> 1\u001b[0;31m \u001b[0mnobel_data\u001b[0m \u001b[0;34m=\u001b[0m \u001b[0mpd\u001b[0m\u001b[0;34m.\u001b[0m\u001b[0mread_json\u001b[0m\u001b[0;34m(\u001b[0m\u001b[0mbasePath\u001b[0m \u001b[0;34m+\u001b[0m\u001b[0;34m'nobel_data.json'\u001b[0m\u001b[0;34m)\u001b[0m\u001b[0;34m\u001b[0m\u001b[0;34m\u001b[0m\u001b[0m\n\u001b[0m\u001b[1;32m      2\u001b[0m \u001b[0mnobel_data\u001b[0m\u001b[0;34m[\u001b[0m\u001b[0;34m'is_winner'\u001b[0m\u001b[0;34m]\u001b[0m \u001b[0;34m=\u001b[0m \u001b[0mnobel_data\u001b[0m\u001b[0;34m[\u001b[0m\u001b[0;34m'prize_status'\u001b[0m\u001b[0;34m]\u001b[0m\u001b[0;34m.\u001b[0m\u001b[0mnotnull\u001b[0m\u001b[0;34m(\u001b[0m\u001b[0;34m)\u001b[0m\u001b[0;34m\u001b[0m\u001b[0;34m\u001b[0m\u001b[0m\n\u001b[1;32m      3\u001b[0m \u001b[0;34m\u001b[0m\u001b[0m\n\u001b[1;32m      4\u001b[0m \u001b[0;31m#Dealing with input errors from data, where nonsense character is assigned to gender\u001b[0m\u001b[0;34m\u001b[0m\u001b[0;34m\u001b[0m\u001b[0;34m\u001b[0m\u001b[0m\n\u001b[1;32m      5\u001b[0m \u001b[0mnobel_data\u001b[0m\u001b[0;34m.\u001b[0m\u001b[0mloc\u001b[0m\u001b[0;34m[\u001b[0m\u001b[0;34m(\u001b[0m\u001b[0mnobel_data\u001b[0m\u001b[0;34m[\u001b[0m\u001b[0;34m'Gender'\u001b[0m\u001b[0;34m]\u001b[0m \u001b[0;34m!=\u001b[0m \u001b[0;34m'M'\u001b[0m\u001b[0;34m)\u001b[0m \u001b[0;34m&\u001b[0m \u001b[0;34m(\u001b[0m\u001b[0mnobel_data\u001b[0m\u001b[0;34m[\u001b[0m\u001b[0;34m'Gender'\u001b[0m\u001b[0;34m]\u001b[0m \u001b[0;34m!=\u001b[0m \u001b[0;34m'F'\u001b[0m\u001b[0;34m)\u001b[0m\u001b[0;34m,\u001b[0m \u001b[0;34m'Gender'\u001b[0m\u001b[0;34m]\u001b[0m \u001b[0;34m=\u001b[0m \u001b[0;34m'M'\u001b[0m\u001b[0;34m\u001b[0m\u001b[0;34m\u001b[0m\u001b[0m\n",
      "\u001b[0;32m/usr/local/lib/python3.9/site-packages/pandas/util/_decorators.py\u001b[0m in \u001b[0;36mwrapper\u001b[0;34m(*args, **kwargs)\u001b[0m\n\u001b[1;32m    205\u001b[0m                 \u001b[0;32melse\u001b[0m\u001b[0;34m:\u001b[0m\u001b[0;34m\u001b[0m\u001b[0;34m\u001b[0m\u001b[0m\n\u001b[1;32m    206\u001b[0m                     \u001b[0mkwargs\u001b[0m\u001b[0;34m[\u001b[0m\u001b[0mnew_arg_name\u001b[0m\u001b[0;34m]\u001b[0m \u001b[0;34m=\u001b[0m \u001b[0mnew_arg_value\u001b[0m\u001b[0;34m\u001b[0m\u001b[0;34m\u001b[0m\u001b[0m\n\u001b[0;32m--> 207\u001b[0;31m             \u001b[0;32mreturn\u001b[0m \u001b[0mfunc\u001b[0m\u001b[0;34m(\u001b[0m\u001b[0;34m*\u001b[0m\u001b[0margs\u001b[0m\u001b[0;34m,\u001b[0m \u001b[0;34m**\u001b[0m\u001b[0mkwargs\u001b[0m\u001b[0;34m)\u001b[0m\u001b[0;34m\u001b[0m\u001b[0;34m\u001b[0m\u001b[0m\n\u001b[0m\u001b[1;32m    208\u001b[0m \u001b[0;34m\u001b[0m\u001b[0m\n\u001b[1;32m    209\u001b[0m         \u001b[0;32mreturn\u001b[0m \u001b[0mcast\u001b[0m\u001b[0;34m(\u001b[0m\u001b[0mF\u001b[0m\u001b[0;34m,\u001b[0m \u001b[0mwrapper\u001b[0m\u001b[0;34m)\u001b[0m\u001b[0;34m\u001b[0m\u001b[0;34m\u001b[0m\u001b[0m\n",
      "\u001b[0;32m/usr/local/lib/python3.9/site-packages/pandas/util/_decorators.py\u001b[0m in \u001b[0;36mwrapper\u001b[0;34m(*args, **kwargs)\u001b[0m\n\u001b[1;32m    309\u001b[0m                     \u001b[0mstacklevel\u001b[0m\u001b[0;34m=\u001b[0m\u001b[0mstacklevel\u001b[0m\u001b[0;34m,\u001b[0m\u001b[0;34m\u001b[0m\u001b[0;34m\u001b[0m\u001b[0m\n\u001b[1;32m    310\u001b[0m                 )\n\u001b[0;32m--> 311\u001b[0;31m             \u001b[0;32mreturn\u001b[0m \u001b[0mfunc\u001b[0m\u001b[0;34m(\u001b[0m\u001b[0;34m*\u001b[0m\u001b[0margs\u001b[0m\u001b[0;34m,\u001b[0m \u001b[0;34m**\u001b[0m\u001b[0mkwargs\u001b[0m\u001b[0;34m)\u001b[0m\u001b[0;34m\u001b[0m\u001b[0;34m\u001b[0m\u001b[0m\n\u001b[0m\u001b[1;32m    312\u001b[0m \u001b[0;34m\u001b[0m\u001b[0m\n\u001b[1;32m    313\u001b[0m         \u001b[0;32mreturn\u001b[0m \u001b[0mwrapper\u001b[0m\u001b[0;34m\u001b[0m\u001b[0;34m\u001b[0m\u001b[0m\n",
      "\u001b[0;32m/usr/local/lib/python3.9/site-packages/pandas/io/json/_json.py\u001b[0m in \u001b[0;36mread_json\u001b[0;34m(path_or_buf, orient, typ, dtype, convert_axes, convert_dates, keep_default_dates, numpy, precise_float, date_unit, encoding, encoding_errors, lines, chunksize, compression, nrows, storage_options)\u001b[0m\n\u001b[1;32m    612\u001b[0m \u001b[0;34m\u001b[0m\u001b[0m\n\u001b[1;32m    613\u001b[0m     \u001b[0;32mwith\u001b[0m \u001b[0mjson_reader\u001b[0m\u001b[0;34m:\u001b[0m\u001b[0;34m\u001b[0m\u001b[0;34m\u001b[0m\u001b[0m\n\u001b[0;32m--> 614\u001b[0;31m         \u001b[0;32mreturn\u001b[0m \u001b[0mjson_reader\u001b[0m\u001b[0;34m.\u001b[0m\u001b[0mread\u001b[0m\u001b[0;34m(\u001b[0m\u001b[0;34m)\u001b[0m\u001b[0;34m\u001b[0m\u001b[0;34m\u001b[0m\u001b[0m\n\u001b[0m\u001b[1;32m    615\u001b[0m \u001b[0;34m\u001b[0m\u001b[0m\n\u001b[1;32m    616\u001b[0m \u001b[0;34m\u001b[0m\u001b[0m\n",
      "\u001b[0;32m/usr/local/lib/python3.9/site-packages/pandas/io/json/_json.py\u001b[0m in \u001b[0;36mread\u001b[0;34m(self)\u001b[0m\n\u001b[1;32m    746\u001b[0m                 \u001b[0mobj\u001b[0m \u001b[0;34m=\u001b[0m \u001b[0mself\u001b[0m\u001b[0;34m.\u001b[0m\u001b[0m_get_object_parser\u001b[0m\u001b[0;34m(\u001b[0m\u001b[0mself\u001b[0m\u001b[0;34m.\u001b[0m\u001b[0m_combine_lines\u001b[0m\u001b[0;34m(\u001b[0m\u001b[0mdata_lines\u001b[0m\u001b[0;34m)\u001b[0m\u001b[0;34m)\u001b[0m\u001b[0;34m\u001b[0m\u001b[0;34m\u001b[0m\u001b[0m\n\u001b[1;32m    747\u001b[0m         \u001b[0;32melse\u001b[0m\u001b[0;34m:\u001b[0m\u001b[0;34m\u001b[0m\u001b[0;34m\u001b[0m\u001b[0m\n\u001b[0;32m--> 748\u001b[0;31m             \u001b[0mobj\u001b[0m \u001b[0;34m=\u001b[0m \u001b[0mself\u001b[0m\u001b[0;34m.\u001b[0m\u001b[0m_get_object_parser\u001b[0m\u001b[0;34m(\u001b[0m\u001b[0mself\u001b[0m\u001b[0;34m.\u001b[0m\u001b[0mdata\u001b[0m\u001b[0;34m)\u001b[0m\u001b[0;34m\u001b[0m\u001b[0;34m\u001b[0m\u001b[0m\n\u001b[0m\u001b[1;32m    749\u001b[0m         \u001b[0mself\u001b[0m\u001b[0;34m.\u001b[0m\u001b[0mclose\u001b[0m\u001b[0;34m(\u001b[0m\u001b[0;34m)\u001b[0m\u001b[0;34m\u001b[0m\u001b[0;34m\u001b[0m\u001b[0m\n\u001b[1;32m    750\u001b[0m         \u001b[0;32mreturn\u001b[0m \u001b[0mobj\u001b[0m\u001b[0;34m\u001b[0m\u001b[0;34m\u001b[0m\u001b[0m\n",
      "\u001b[0;32m/usr/local/lib/python3.9/site-packages/pandas/io/json/_json.py\u001b[0m in \u001b[0;36m_get_object_parser\u001b[0;34m(self, json)\u001b[0m\n\u001b[1;32m    768\u001b[0m         \u001b[0mobj\u001b[0m \u001b[0;34m=\u001b[0m \u001b[0;32mNone\u001b[0m\u001b[0;34m\u001b[0m\u001b[0;34m\u001b[0m\u001b[0m\n\u001b[1;32m    769\u001b[0m         \u001b[0;32mif\u001b[0m \u001b[0mtyp\u001b[0m \u001b[0;34m==\u001b[0m \u001b[0;34m\"frame\"\u001b[0m\u001b[0;34m:\u001b[0m\u001b[0;34m\u001b[0m\u001b[0;34m\u001b[0m\u001b[0m\n\u001b[0;32m--> 770\u001b[0;31m             \u001b[0mobj\u001b[0m \u001b[0;34m=\u001b[0m \u001b[0mFrameParser\u001b[0m\u001b[0;34m(\u001b[0m\u001b[0mjson\u001b[0m\u001b[0;34m,\u001b[0m \u001b[0;34m**\u001b[0m\u001b[0mkwargs\u001b[0m\u001b[0;34m)\u001b[0m\u001b[0;34m.\u001b[0m\u001b[0mparse\u001b[0m\u001b[0;34m(\u001b[0m\u001b[0;34m)\u001b[0m\u001b[0;34m\u001b[0m\u001b[0;34m\u001b[0m\u001b[0m\n\u001b[0m\u001b[1;32m    771\u001b[0m \u001b[0;34m\u001b[0m\u001b[0m\n\u001b[1;32m    772\u001b[0m         \u001b[0;32mif\u001b[0m \u001b[0mtyp\u001b[0m \u001b[0;34m==\u001b[0m \u001b[0;34m\"series\"\u001b[0m \u001b[0;32mor\u001b[0m \u001b[0mobj\u001b[0m \u001b[0;32mis\u001b[0m \u001b[0;32mNone\u001b[0m\u001b[0;34m:\u001b[0m\u001b[0;34m\u001b[0m\u001b[0;34m\u001b[0m\u001b[0m\n",
      "\u001b[0;32m/usr/local/lib/python3.9/site-packages/pandas/io/json/_json.py\u001b[0m in \u001b[0;36mparse\u001b[0;34m(self)\u001b[0m\n\u001b[1;32m    883\u001b[0m \u001b[0;34m\u001b[0m\u001b[0m\n\u001b[1;32m    884\u001b[0m         \u001b[0;32melse\u001b[0m\u001b[0;34m:\u001b[0m\u001b[0;34m\u001b[0m\u001b[0;34m\u001b[0m\u001b[0m\n\u001b[0;32m--> 885\u001b[0;31m             \u001b[0mself\u001b[0m\u001b[0;34m.\u001b[0m\u001b[0m_parse_no_numpy\u001b[0m\u001b[0;34m(\u001b[0m\u001b[0;34m)\u001b[0m\u001b[0;34m\u001b[0m\u001b[0;34m\u001b[0m\u001b[0m\n\u001b[0m\u001b[1;32m    886\u001b[0m \u001b[0;34m\u001b[0m\u001b[0m\n\u001b[1;32m    887\u001b[0m         \u001b[0;32mif\u001b[0m \u001b[0mself\u001b[0m\u001b[0;34m.\u001b[0m\u001b[0mobj\u001b[0m \u001b[0;32mis\u001b[0m \u001b[0;32mNone\u001b[0m\u001b[0;34m:\u001b[0m\u001b[0;34m\u001b[0m\u001b[0;34m\u001b[0m\u001b[0m\n",
      "\u001b[0;32m/usr/local/lib/python3.9/site-packages/pandas/io/json/_json.py\u001b[0m in \u001b[0;36m_parse_no_numpy\u001b[0;34m(self)\u001b[0m\n\u001b[1;32m   1138\u001b[0m         \u001b[0;32mif\u001b[0m \u001b[0morient\u001b[0m \u001b[0;34m==\u001b[0m \u001b[0;34m\"columns\"\u001b[0m\u001b[0;34m:\u001b[0m\u001b[0;34m\u001b[0m\u001b[0;34m\u001b[0m\u001b[0m\n\u001b[1;32m   1139\u001b[0m             self.obj = DataFrame(\n\u001b[0;32m-> 1140\u001b[0;31m                 \u001b[0mloads\u001b[0m\u001b[0;34m(\u001b[0m\u001b[0mjson\u001b[0m\u001b[0;34m,\u001b[0m \u001b[0mprecise_float\u001b[0m\u001b[0;34m=\u001b[0m\u001b[0mself\u001b[0m\u001b[0;34m.\u001b[0m\u001b[0mprecise_float\u001b[0m\u001b[0;34m)\u001b[0m\u001b[0;34m,\u001b[0m \u001b[0mdtype\u001b[0m\u001b[0;34m=\u001b[0m\u001b[0;32mNone\u001b[0m\u001b[0;34m\u001b[0m\u001b[0;34m\u001b[0m\u001b[0m\n\u001b[0m\u001b[1;32m   1141\u001b[0m             )\n\u001b[1;32m   1142\u001b[0m         \u001b[0;32melif\u001b[0m \u001b[0morient\u001b[0m \u001b[0;34m==\u001b[0m \u001b[0;34m\"split\"\u001b[0m\u001b[0;34m:\u001b[0m\u001b[0;34m\u001b[0m\u001b[0;34m\u001b[0m\u001b[0m\n",
      "\u001b[0;31mValueError\u001b[0m: Expected object or value"
     ]
    }
   ],
   "source": [
    "nobel_data = pd.read_json(basePath +'nobel_data.json')\n",
    "nobel_data['is_winner'] = nobel_data['prize_status'].notnull()\n",
    "\n",
    "#Dealing with input errors from data, where nonsense character is assigned to gender\n",
    "nobel_data.loc[(nobel_data['Gender'] != 'M') & (nobel_data['Gender'] != 'F'), 'Gender'] = 'M'\n",
    "\n",
    "nobel_data"
   ]
  },
  {
   "cell_type": "code",
   "execution_count": null,
   "id": "52ebe990",
   "metadata": {},
   "outputs": [],
   "source": [
    "nominators = nobel_data[nobel_data['role'] == \"Nominator\"]\n",
    "nominees = nobel_data[nobel_data['role'] == \"Nominee\"]"
   ]
  },
  {
   "cell_type": "markdown",
   "id": "6dd8e7e0",
   "metadata": {},
   "source": [
    "## Nominee Winning Percentage"
   ]
  },
  {
   "cell_type": "code",
   "execution_count": 65,
   "id": "baff6203",
   "metadata": {},
   "outputs": [
    {
     "name": "stdout",
     "output_type": "stream",
     "text": [
      "Number of winners:  373\n",
      "Winning %:  11.438209138301135\n"
     ]
    }
   ],
   "source": [
    "unique_nominees = nominees.drop_duplicates(subset=['Name'])\n",
    "num_winners = unique_nominees['is_winner'].sum()\n",
    "print(\"Number of winners: \",num_winners)\n",
    "print(\"Winning %: \",(num_winners/len(unique_nominees.index)) *100)"
   ]
  },
  {
   "cell_type": "markdown",
   "id": "d853c856",
   "metadata": {},
   "source": [
    "## Gender Proportion Plots"
   ]
  },
  {
   "cell_type": "code",
   "execution_count": 66,
   "id": "c974c998",
   "metadata": {},
   "outputs": [
    {
     "data": {
      "image/png": "[encoded data removed]",
      "text/plain": [
       "<Figure size 432x288 with 1 Axes>"
      ]
     },
     "metadata": {
      "needs_background": "light"
     },
     "output_type": "display_data"
    }
   ],
   "source": [
    "fig, ax = plt.subplots(1,1)\n",
    "unique_nominees['Gender'].value_counts(normalize = True).plot(kind = 'bar', ax=ax)\n",
    "\n",
    "for p in ax.patches:\n",
    "    txt = np.round(p.get_height(), decimals=2) * 100\n",
    "    ax.annotate(str(txt)+\"%\", (p.get_x() * 1.005, p.get_height() * 1.005))\n",
    "\n",
    "ax.set_title(\"Gender Proportions of Nobel Prize Nominees\")\n",
    "ax.set_xlabel(\"Gender\")\n",
    "ax.set_ylabel(\"Percentage of Total Nominees\")\n",
    "ax.yaxis.set_major_formatter(PercentFormatter(1))"
   ]
  },
  {
   "cell_type": "markdown",
   "id": "59e5d9d3",
   "metadata": {},
   "source": [
    "This plot represents the proportion of nominees in all categories over the total time period in which observations were recorded (1901-1967) that are male and female. Overall there is a whopping 96% of nominees who were male against only 4% female, showing a tremendous gender disparity"
   ]
  },
  {
   "cell_type": "code",
   "execution_count": 67,
   "id": "de44215b",
   "metadata": {},
   "outputs": [
    {
     "data": {
      "image/png": "[encoded data removed]",
      "text/plain": [
       "<Figure size 432x288 with 1 Axes>"
      ]
     },
     "metadata": {
      "needs_background": "light"
     },
     "output_type": "display_data"
    }
   ],
   "source": [
    "unique_nominators = nominators.drop_duplicates(subset=['Name'])\n",
    "\n",
    "fig, ax = plt.subplots(1,1)\n",
    "unique_nominators['Gender'].value_counts(normalize = True).plot(kind = 'bar', ax = ax)\n",
    "for p in ax.patches:\n",
    "    for p in ax.patches:\n",
    "        txt = np.round(p.get_height(), decimals=2) * 100\n",
    "        ax.annotate(str(txt)+\"%\", (p.get_x() * 1.005, p.get_height() * 1.005))\n",
    "\n",
    "ax.set_title(\"Gender Proportions of Nobel Prize Nominators\")\n",
    "ax.set_xlabel(\"Gender\")\n",
    "ax.set_ylabel(\"Percentage of Total Nominators\")\n",
    "ax.yaxis.set_major_formatter(PercentFormatter(1))"
   ]
  },
  {
   "cell_type": "markdown",
   "id": "b22b9914",
   "metadata": {},
   "source": [
    "This plot captures the proportion of nominators that were male and female. The gender disparity is even more profound with the nominators, with 99% being male to 1% being female."
   ]
  },
  {
   "cell_type": "code",
   "execution_count": 68,
   "id": "dca2983a",
   "metadata": {},
   "outputs": [
    {
     "data": {
      "text/plain": [
       "Text(0.5, 0, 'Year')"
      ]
     },
     "execution_count": 68,
     "metadata": {},
     "output_type": "execute_result"
    },
    {
     "data": {
      "image/png": "[encoded data removed]",
      "text/plain": [
       "<Figure size 432x288 with 1 Axes>"
      ]
     },
     "metadata": {
      "needs_background": "light"
     },
     "output_type": "display_data"
    }
   ],
   "source": [
    "fig, ax = plt.subplots(1,1)\n",
    "nominees_gender = nominees.groupby('year')['Gender'].value_counts(normalize=True).unstack()\n",
    "nominees_gender.plot(kind ='area', legend = True, ax=ax)\n",
    "ax.set_title(\"Gender Proportions for Nominees Over Time\")\n",
    "ax.set_ylabel(\"Proportion\")\n",
    "ax.set_xlabel(\"Year\")"
   ]
  },
  {
   "cell_type": "code",
   "execution_count": 69,
   "id": "fbb07478",
   "metadata": {},
   "outputs": [
    {
     "data": {
      "text/plain": [
       "Text(0.5, 0, 'Year')"
      ]
     },
     "execution_count": 69,
     "metadata": {},
     "output_type": "execute_result"
    },
    {
     "data": {
      "image/png": "[encoded data removed]",
      "text/plain": [
       "<Figure size 432x288 with 1 Axes>"
      ]
     },
     "metadata": {
      "needs_background": "light"
     },
     "output_type": "display_data"
    }
   ],
   "source": [
    "fig, ax = plt.subplots(1,1)\n",
    "nominators_gender = nominators.groupby('year')['Gender'].value_counts(normalize=True).unstack()\n",
    "nominators_gender.plot(kind ='area', legend = True, ax=ax)\n",
    "ax.set_title(\"Gender Proportions for Nominators Over Time\")\n",
    "ax.set_ylabel(\"Proportion\")\n",
    "ax.set_xlabel(\"Year\")"
   ]
  },
  {
   "cell_type": "markdown",
   "id": "5b891502",
   "metadata": {},
   "source": [
    "## Gender Proportions By Category"
   ]
  },
  {
   "cell_type": "code",
   "execution_count": 70,
   "id": "73695583",
   "metadata": {},
   "outputs": [
    {
     "data": {
      "image/png": "[encoded data removed]",
      "text/plain": [
       "<Figure size 2520x648 with 5 Axes>"
      ]
     },
     "metadata": {
      "needs_background": "light"
     },
     "output_type": "display_data"
    }
   ],
   "source": [
    "fig, axes = plt.subplots(1,5, figsize = (35,9))\n",
    "fig.suptitle(\"Nominees Gender Percentages By Prize Category\")\n",
    "\n",
    "nominees_grouped = nominees.groupby('category')\n",
    "# nominees.groupby('category')['Gender'].value_counts(normalize = True).unstack().plot(kind = 'bar', legend = True, ax=ax)\n",
    "plot_areas = zip(nominees_grouped.groups.keys(), axes.flatten()) # creates list so that I can match plotting axes with group keys when I iterate\n",
    "\n",
    "#Helper function to fix string formatting\n",
    "def getSubtitle(key):\n",
    "    if \"Peace\" in key:\n",
    "        return \"Peace\"\n",
    "    else:\n",
    "        return key.split(\" \")[-1]\n",
    "\n",
    "for idx, (key, ax) in enumerate(plot_areas):\n",
    "    group = nominees_grouped.get_group(key)\n",
    "    subtitle = getSubtitle(key)\n",
    "    group['Gender'].value_counts(normalize = True).plot(kind = 'bar', legend = True, ax=ax)\n",
    "    ax.set_title(subtitle)\n",
    "    ax.set_xlabel(\"Gender\")\n",
    "    ax.set_ylabel(\"Percentage\")\n",
    "    ax.yaxis.set_major_formatter(PercentFormatter(1))\n",
    "    for p in ax.patches:\n",
    "        txt = np.round(p.get_height(), decimals=2) * 100\n",
    "        ax.annotate(str(txt)+\"%\", (p.get_x() * 1.005, p.get_height() * 1.005))"
   ]
  },
  {
   "cell_type": "code",
   "execution_count": 88,
   "id": "e5935952",
   "metadata": {},
   "outputs": [
    {
     "data": {
      "image/png": "[encoded data removed]",
      "text/plain": [
       "<Figure size 2520x648 with 5 Axes>"
      ]
     },
     "metadata": {
      "needs_background": "light"
     },
     "output_type": "display_data"
    }
   ],
   "source": [
    "fig, axes = plt.subplots(1,5, figsize = (35,9))\n",
    "fig.suptitle(\"Nominators Gender Percentages By Prize Category\")\n",
    "\n",
    "nominators_grouped = nominators.groupby('category')\n",
    "# nominees.groupby('category')['Gender'].value_counts(normalize = True).unstack().plot(kind = 'bar', legend = True, ax=ax)\n",
    "plot_areas = zip(nominators_grouped.groups.keys(), axes.flatten()) # creates list so that I can match plotting axes with group keys when I iterate\n",
    "\n",
    "for idx, (key, ax) in enumerate(plot_areas):\n",
    "    group = nominators_grouped.get_group(key)\n",
    "    subtitle = getSubtitle(key)\n",
    "    group['Gender'].value_counts(normalize = True).plot(kind = 'bar', legend = True, ax=ax)\n",
    "    ax.set_title(subtitle)\n",
    "    ax.set_xlabel(\"Gender\")\n",
    "    ax.set_ylabel(\"Percentage\")\n",
    "    ax.yaxis.set_major_formatter(PercentFormatter(1))\n",
    "    for p in ax.patches:\n",
    "    \ttxt = np.round(p.get_height(), decimals=3) * 100\n",
    "    \tax.annotate(str(txt)+\"%\", (p.get_x() * 1.005, p.get_height() * 1.005))"
   ]
  },
  {
   "cell_type": "markdown",
   "id": "d545ab45",
   "metadata": {},
   "source": [
    "### Is there at least marginally greater representation of women among winners?"
   ]
  },
  {
   "cell_type": "code",
   "execution_count": 72,
   "id": "d465cad5",
   "metadata": {},
   "outputs": [
    {
     "data": {
      "image/png": "[encoded data removed]",
      "text/plain": [
       "<Figure size 432x288 with 1 Axes>"
      ]
     },
     "metadata": {
      "needs_background": "light"
     },
     "output_type": "display_data"
    }
   ],
   "source": [
    "winners = unique_nominees[unique_nominees['is_winner'] == True]\n",
    "\n",
    "fig, ax = plt.subplots(1,1)\n",
    "winners['Gender'].value_counts(normalize = True).plot(kind = 'bar', ax=ax)\n",
    "\n",
    "for p in ax.patches:\n",
    "    txt = np.round(p.get_height(), decimals=2) * 100\n",
    "    ax.annotate(str(txt)+\"%\", (p.get_x() * 1.005, p.get_height() * 1.005))\n",
    "\n",
    "ax.set_title(\"Gender Proportions of Nobel Prize Winners\")\n",
    "ax.set_xlabel(\"Gender\")\n",
    "ax.set_ylabel(\"Percentage of Total Nominees\")\n",
    "ax.yaxis.set_major_formatter(PercentFormatter(1))"
   ]
  },
  {
   "cell_type": "markdown",
   "id": "b054e678",
   "metadata": {},
   "source": [
    "## Age Distributions Nominees/Nominators by overall/by category/binned changes in the distributions"
   ]
  },
  {
   "cell_type": "code",
   "execution_count": 73,
   "id": "8a75a149",
   "metadata": {},
   "outputs": [
    {
     "data": {
      "text/html": [
       "<div>\n",
       "<style scoped>\n",
       "    .dataframe tbody tr th:only-of-type {\n",
       "        vertical-align: middle;\n",
       "    }\n",
       "\n",
       "    .dataframe tbody tr th {\n",
       "        vertical-align: top;\n",
       "    }\n",
       "\n",
       "    .dataframe thead th {\n",
       "        text-align: right;\n",
       "    }\n",
       "</style>\n",
       "<table border=\"1\" class=\"dataframe\">\n",
       "  <thead>\n",
       "    <tr style=\"text-align: right;\">\n",
       "      <th></th>\n",
       "      <th>year</th>\n",
       "      <th>Year, Birth</th>\n",
       "      <th>Year, Death</th>\n",
       "    </tr>\n",
       "  </thead>\n",
       "  <tbody>\n",
       "    <tr>\n",
       "      <th>count</th>\n",
       "      <td>18792.000000</td>\n",
       "      <td>5229.000000</td>\n",
       "      <td>4912.000000</td>\n",
       "    </tr>\n",
       "    <tr>\n",
       "      <th>mean</th>\n",
       "      <td>1935.366379</td>\n",
       "      <td>1879.694397</td>\n",
       "      <td>1960.376221</td>\n",
       "    </tr>\n",
       "    <tr>\n",
       "      <th>std</th>\n",
       "      <td>19.709333</td>\n",
       "      <td>24.532483</td>\n",
       "      <td>25.842870</td>\n",
       "    </tr>\n",
       "    <tr>\n",
       "      <th>min</th>\n",
       "      <td>1901.000000</td>\n",
       "      <td>1647.000000</td>\n",
       "      <td>1885.000000</td>\n",
       "    </tr>\n",
       "    <tr>\n",
       "      <th>25%</th>\n",
       "      <td>1919.000000</td>\n",
       "      <td>1862.000000</td>\n",
       "      <td>1940.000000</td>\n",
       "    </tr>\n",
       "    <tr>\n",
       "      <th>50%</th>\n",
       "      <td>1935.000000</td>\n",
       "      <td>1882.000000</td>\n",
       "      <td>1964.000000</td>\n",
       "    </tr>\n",
       "    <tr>\n",
       "      <th>75%</th>\n",
       "      <td>1953.000000</td>\n",
       "      <td>1899.000000</td>\n",
       "      <td>1980.000000</td>\n",
       "    </tr>\n",
       "    <tr>\n",
       "      <th>max</th>\n",
       "      <td>1967.000000</td>\n",
       "      <td>1956.000000</td>\n",
       "      <td>2017.000000</td>\n",
       "    </tr>\n",
       "  </tbody>\n",
       "</table>\n",
       "</div>"
      ],
      "text/plain": [
       "               year  Year, Birth  Year, Death\n",
       "count  18792.000000  5229.000000  4912.000000\n",
       "mean    1935.366379  1879.694397  1960.376221\n",
       "std       19.709333    24.532483    25.842870\n",
       "min     1901.000000  1647.000000  1885.000000\n",
       "25%     1919.000000  1862.000000  1940.000000\n",
       "50%     1935.000000  1882.000000  1964.000000\n",
       "75%     1953.000000  1899.000000  1980.000000\n",
       "max     1967.000000  1956.000000  2017.000000"
      ]
     },
     "execution_count": 73,
     "metadata": {},
     "output_type": "execute_result"
    }
   ],
   "source": [
    "nominators.describe()"
   ]
  },
  {
   "cell_type": "code",
   "execution_count": 74,
   "id": "b769370e",
   "metadata": {},
   "outputs": [
    {
     "data": {
      "text/html": [
       "<div>\n",
       "<style scoped>\n",
       "    .dataframe tbody tr th:only-of-type {\n",
       "        vertical-align: middle;\n",
       "    }\n",
       "\n",
       "    .dataframe tbody tr th {\n",
       "        vertical-align: top;\n",
       "    }\n",
       "\n",
       "    .dataframe thead th {\n",
       "        text-align: right;\n",
       "    }\n",
       "</style>\n",
       "<table border=\"1\" class=\"dataframe\">\n",
       "  <thead>\n",
       "    <tr style=\"text-align: right;\">\n",
       "      <th></th>\n",
       "      <th>year</th>\n",
       "      <th>Year, Birth</th>\n",
       "      <th>Year, Death</th>\n",
       "    </tr>\n",
       "  </thead>\n",
       "  <tbody>\n",
       "    <tr>\n",
       "      <th>count</th>\n",
       "      <td>22147.000000</td>\n",
       "      <td>18225.000000</td>\n",
       "      <td>16785.000000</td>\n",
       "    </tr>\n",
       "    <tr>\n",
       "      <th>mean</th>\n",
       "      <td>1935.733824</td>\n",
       "      <td>1877.929712</td>\n",
       "      <td>1956.947036</td>\n",
       "    </tr>\n",
       "    <tr>\n",
       "      <th>std</th>\n",
       "      <td>19.591170</td>\n",
       "      <td>24.037674</td>\n",
       "      <td>25.266414</td>\n",
       "    </tr>\n",
       "    <tr>\n",
       "      <th>min</th>\n",
       "      <td>1901.000000</td>\n",
       "      <td>1647.000000</td>\n",
       "      <td>1901.000000</td>\n",
       "    </tr>\n",
       "    <tr>\n",
       "      <th>25%</th>\n",
       "      <td>1920.000000</td>\n",
       "      <td>1861.000000</td>\n",
       "      <td>1938.000000</td>\n",
       "    </tr>\n",
       "    <tr>\n",
       "      <th>50%</th>\n",
       "      <td>1935.000000</td>\n",
       "      <td>1878.000000</td>\n",
       "      <td>1960.000000</td>\n",
       "    </tr>\n",
       "    <tr>\n",
       "      <th>75%</th>\n",
       "      <td>1953.000000</td>\n",
       "      <td>1896.000000</td>\n",
       "      <td>1974.000000</td>\n",
       "    </tr>\n",
       "    <tr>\n",
       "      <th>max</th>\n",
       "      <td>1967.000000</td>\n",
       "      <td>1987.000000</td>\n",
       "      <td>2019.000000</td>\n",
       "    </tr>\n",
       "  </tbody>\n",
       "</table>\n",
       "</div>"
      ],
      "text/plain": [
       "               year   Year, Birth   Year, Death\n",
       "count  22147.000000  18225.000000  16785.000000\n",
       "mean    1935.733824   1877.929712   1956.947036\n",
       "std       19.591170     24.037674     25.266414\n",
       "min     1901.000000   1647.000000   1901.000000\n",
       "25%     1920.000000   1861.000000   1938.000000\n",
       "50%     1935.000000   1878.000000   1960.000000\n",
       "75%     1953.000000   1896.000000   1974.000000\n",
       "max     1967.000000   1987.000000   2019.000000"
      ]
     },
     "execution_count": 74,
     "metadata": {},
     "output_type": "execute_result"
    }
   ],
   "source": [
    "nominees.describe()"
   ]
  },
  {
   "cell_type": "code",
   "execution_count": 75,
   "id": "a7950b6c",
   "metadata": {},
   "outputs": [
    {
     "data": {
      "text/html": [
       "<div>\n",
       "<style scoped>\n",
       "    .dataframe tbody tr th:only-of-type {\n",
       "        vertical-align: middle;\n",
       "    }\n",
       "\n",
       "    .dataframe tbody tr th {\n",
       "        vertical-align: top;\n",
       "    }\n",
       "\n",
       "    .dataframe thead th {\n",
       "        text-align: right;\n",
       "    }\n",
       "</style>\n",
       "<table border=\"1\" class=\"dataframe\">\n",
       "  <thead>\n",
       "    <tr style=\"text-align: right;\">\n",
       "      <th></th>\n",
       "      <th>year</th>\n",
       "      <th>Year, Birth</th>\n",
       "      <th>Year, Death</th>\n",
       "    </tr>\n",
       "  </thead>\n",
       "  <tbody>\n",
       "    <tr>\n",
       "      <th>count</th>\n",
       "      <td>17148.000000</td>\n",
       "      <td>14577.000000</td>\n",
       "      <td>13258.000000</td>\n",
       "    </tr>\n",
       "    <tr>\n",
       "      <th>mean</th>\n",
       "      <td>1936.392291</td>\n",
       "      <td>1880.459628</td>\n",
       "      <td>1959.792729</td>\n",
       "    </tr>\n",
       "    <tr>\n",
       "      <th>std</th>\n",
       "      <td>19.133513</td>\n",
       "      <td>22.428357</td>\n",
       "      <td>24.929737</td>\n",
       "    </tr>\n",
       "    <tr>\n",
       "      <th>min</th>\n",
       "      <td>1901.000000</td>\n",
       "      <td>1815.000000</td>\n",
       "      <td>1901.000000</td>\n",
       "    </tr>\n",
       "    <tr>\n",
       "      <th>25%</th>\n",
       "      <td>1921.000000</td>\n",
       "      <td>1864.000000</td>\n",
       "      <td>1941.000000</td>\n",
       "    </tr>\n",
       "    <tr>\n",
       "      <th>50%</th>\n",
       "      <td>1936.000000</td>\n",
       "      <td>1881.000000</td>\n",
       "      <td>1963.000000</td>\n",
       "    </tr>\n",
       "    <tr>\n",
       "      <th>75%</th>\n",
       "      <td>1953.000000</td>\n",
       "      <td>1899.000000</td>\n",
       "      <td>1976.000000</td>\n",
       "    </tr>\n",
       "    <tr>\n",
       "      <th>max</th>\n",
       "      <td>1966.000000</td>\n",
       "      <td>1987.000000</td>\n",
       "      <td>2019.000000</td>\n",
       "    </tr>\n",
       "  </tbody>\n",
       "</table>\n",
       "</div>"
      ],
      "text/plain": [
       "               year   Year, Birth   Year, Death\n",
       "count  17148.000000  14577.000000  13258.000000\n",
       "mean    1936.392291   1880.459628   1959.792729\n",
       "std       19.133513     22.428357     24.929737\n",
       "min     1901.000000   1815.000000   1901.000000\n",
       "25%     1921.000000   1864.000000   1941.000000\n",
       "50%     1936.000000   1881.000000   1963.000000\n",
       "75%     1953.000000   1899.000000   1976.000000\n",
       "max     1966.000000   1987.000000   2019.000000"
      ]
     },
     "execution_count": 75,
     "metadata": {},
     "output_type": "execute_result"
    }
   ],
   "source": [
    "nominees_people = nominees[nominees['category'] != \"Nomination for Nobel Peace Prize\"] #filtering out category where organizations are often nominated\n",
    "nominees_people.describe()"
   ]
  },
  {
   "cell_type": "markdown",
   "id": "f71868c7",
   "metadata": {},
   "source": [
    "Through data checking, I am confident that most if not all organizational start dates have been filtered out of the dataset through taking the nobel peace prize out of consideration. If nominees are unnamed in categories, they will not have a birth or death year meaning they will not be used in the calculations."
   ]
  },
  {
   "cell_type": "code",
   "execution_count": 76,
   "id": "1b2051e0",
   "metadata": {},
   "outputs": [],
   "source": [
    "def getAge(birth, nom_year):\n",
    "    return nom_year - birth;\n",
    "def getAgeDeath(birth, death):\n",
    "    return death - birth;\n",
    "\n",
    "'''Every single column in which the age is negative has to do with an error when typing the nomination where a year in the 1900's was put instead of the 1800's. \n",
    "In this case, all the birth years are off by exactly 100 years.'''\n",
    "    \n",
    "nominees_people.loc[nominees_people['Year, Birth'] > nominees_people['Year, Death'], 'Year, Birth'] = nominees_people['Year, Birth'].sub(100)        \n",
    "nominees_people['is_dead'] = nominees_people['Year, Death'].notnull()\n",
    "nominees_people['age'] = getAge(nominees_people['Year, Birth'], nominees_people['year'])\n",
    "nominees_people['age_death'] = getAgeDeath(nominees_people['Year, Birth'], nominees_people['Year, Death'])"
   ]
  },
  {
   "cell_type": "code",
   "execution_count": 77,
   "id": "a3ec818a",
   "metadata": {},
   "outputs": [
    {
     "data": {
      "text/plain": [
       "count    14577.000000\n",
       "mean        56.763189\n",
       "std         12.127203\n",
       "min         19.000000\n",
       "25%         48.000000\n",
       "50%         56.000000\n",
       "75%         65.000000\n",
       "max         97.000000\n",
       "Name: age, dtype: float64"
      ]
     },
     "execution_count": 77,
     "metadata": {},
     "output_type": "execute_result"
    }
   ],
   "source": [
    "nominees_people['age'].describe()"
   ]
  },
  {
   "cell_type": "code",
   "execution_count": 78,
   "id": "06e2a54b",
   "metadata": {},
   "outputs": [
    {
     "data": {
      "text/plain": [
       "count    13257.000000\n",
       "mean        78.597043\n",
       "std         10.638146\n",
       "min         33.000000\n",
       "25%         72.000000\n",
       "50%         79.000000\n",
       "75%         86.000000\n",
       "max        105.000000\n",
       "Name: age_death, dtype: float64"
      ]
     },
     "execution_count": 78,
     "metadata": {},
     "output_type": "execute_result"
    }
   ],
   "source": [
    "nominees_people['age_death'].describe()"
   ]
  },
  {
   "cell_type": "code",
   "execution_count": 79,
   "id": "cc0f300a",
   "metadata": {},
   "outputs": [
    {
     "data": {
      "text/plain": [
       "count    35.000000\n",
       "mean      2.942857\n",
       "std       3.864947\n",
       "min       1.000000\n",
       "25%       1.000000\n",
       "50%       1.000000\n",
       "75%       3.000000\n",
       "max      18.000000\n",
       "Name: years_after_death, dtype: float64"
      ]
     },
     "execution_count": 79,
     "metadata": {},
     "output_type": "execute_result"
    },
    {
     "data": {
      "image/png": "[encoded data removed]",
      "text/plain": [
       "<Figure size 432x288 with 1 Axes>"
      ]
     },
     "metadata": {
      "needs_background": "light"
     },
     "output_type": "display_data"
    }
   ],
   "source": [
    "# Posthumous Nominations\n",
    "nominees_posthumous = nominees_people[nominees_people['year']>nominees_people['Year, Death']]\n",
    "nominees_posthumous['years_after_death'] = nominees_posthumous['year'] - nominees_posthumous['Year, Death']\n",
    "nominees_posthumous.boxplot(column = ['years_after_death'])\n",
    "plt.title(\"Nobel Prize Posthumous Nominees Years After Death Distribution\")\n",
    "plt.ylabel(\"Age (in years)\")\n",
    "nominees_posthumous['years_after_death'].describe()"
   ]
  },
  {
   "cell_type": "markdown",
   "id": "add777ab",
   "metadata": {},
   "source": [
    "Nobel Prize Nominations made posthumously are typically made very shortly after a person dies. 1 year being the minimum and 3 years is the 75 percentile for number of years after death when the nomination was submitted. This is likely because shortly after one's death in when their accomplishments are remembered. So if anyone really felt compelled to make a nomination after someone dies, this would be the time to do it. Furthermore, very few nominations (35) are made after death, so they are probably only made under very special circumstances."
   ]
  },
  {
   "cell_type": "code",
   "execution_count": 80,
   "id": "c158c11e",
   "metadata": {},
   "outputs": [
    {
     "data": {
      "text/html": [
       "<div>\n",
       "<style scoped>\n",
       "    .dataframe tbody tr th:only-of-type {\n",
       "        vertical-align: middle;\n",
       "    }\n",
       "\n",
       "    .dataframe tbody tr th {\n",
       "        vertical-align: top;\n",
       "    }\n",
       "\n",
       "    .dataframe thead th {\n",
       "        text-align: right;\n",
       "    }\n",
       "</style>\n",
       "<table border=\"1\" class=\"dataframe\">\n",
       "  <thead>\n",
       "    <tr style=\"text-align: right;\">\n",
       "      <th></th>\n",
       "      <th>count</th>\n",
       "      <th>mean</th>\n",
       "      <th>std</th>\n",
       "      <th>min</th>\n",
       "      <th>25%</th>\n",
       "      <th>50%</th>\n",
       "      <th>75%</th>\n",
       "      <th>max</th>\n",
       "    </tr>\n",
       "    <tr>\n",
       "      <th>category</th>\n",
       "      <th></th>\n",
       "      <th></th>\n",
       "      <th></th>\n",
       "      <th></th>\n",
       "      <th></th>\n",
       "      <th></th>\n",
       "      <th></th>\n",
       "      <th></th>\n",
       "    </tr>\n",
       "  </thead>\n",
       "  <tbody>\n",
       "    <tr>\n",
       "      <th>Nomination for Nobel Prize in Chemistry</th>\n",
       "      <td>9.0</td>\n",
       "      <td>4.333333</td>\n",
       "      <td>5.722762</td>\n",
       "      <td>1.0</td>\n",
       "      <td>1.0</td>\n",
       "      <td>2.0</td>\n",
       "      <td>3.0</td>\n",
       "      <td>18.0</td>\n",
       "    </tr>\n",
       "    <tr>\n",
       "      <th>Nomination for Nobel Prize in Literature</th>\n",
       "      <td>1.0</td>\n",
       "      <td>1.000000</td>\n",
       "      <td>NaN</td>\n",
       "      <td>1.0</td>\n",
       "      <td>1.0</td>\n",
       "      <td>1.0</td>\n",
       "      <td>1.0</td>\n",
       "      <td>1.0</td>\n",
       "    </tr>\n",
       "    <tr>\n",
       "      <th>Nomination for Nobel Prize in Physics</th>\n",
       "      <td>9.0</td>\n",
       "      <td>4.666667</td>\n",
       "      <td>4.242641</td>\n",
       "      <td>1.0</td>\n",
       "      <td>1.0</td>\n",
       "      <td>2.0</td>\n",
       "      <td>7.0</td>\n",
       "      <td>12.0</td>\n",
       "    </tr>\n",
       "    <tr>\n",
       "      <th>Nomination for Nobel Prize in Physiology or Medicine</th>\n",
       "      <td>16.0</td>\n",
       "      <td>1.312500</td>\n",
       "      <td>0.873212</td>\n",
       "      <td>1.0</td>\n",
       "      <td>1.0</td>\n",
       "      <td>1.0</td>\n",
       "      <td>1.0</td>\n",
       "      <td>4.0</td>\n",
       "    </tr>\n",
       "  </tbody>\n",
       "</table>\n",
       "</div>"
      ],
      "text/plain": [
       "                                                    count      mean       std  \\\n",
       "category                                                                        \n",
       "Nomination for Nobel Prize in Chemistry               9.0  4.333333  5.722762   \n",
       "Nomination for Nobel Prize in Literature              1.0  1.000000       NaN   \n",
       "Nomination for Nobel Prize in Physics                 9.0  4.666667  4.242641   \n",
       "Nomination for Nobel Prize in Physiology or Med...   16.0  1.312500  0.873212   \n",
       "\n",
       "                                                    min  25%  50%  75%   max  \n",
       "category                                                                      \n",
       "Nomination for Nobel Prize in Chemistry             1.0  1.0  2.0  3.0  18.0  \n",
       "Nomination for Nobel Prize in Literature            1.0  1.0  1.0  1.0   1.0  \n",
       "Nomination for Nobel Prize in Physics               1.0  1.0  2.0  7.0  12.0  \n",
       "Nomination for Nobel Prize in Physiology or Med...  1.0  1.0  1.0  1.0   4.0  "
      ]
     },
     "execution_count": 80,
     "metadata": {},
     "output_type": "execute_result"
    },
    {
     "data": {
      "image/png": "[encoded data removed]",
      "text/plain": [
       "<Figure size 432x288 with 1 Axes>"
      ]
     },
     "metadata": {
      "needs_background": "light"
     },
     "output_type": "display_data"
    }
   ],
   "source": [
    "nominees_posthumous.boxplot(column = ['years_after_death'], by = ['category'])\n",
    "plt.suptitle(\"Nobel Prize Posthumous Nominees Years After Death Distribution\", y = 1.02)\n",
    "plt.xticks([1, 2, 3, 4], [getSubtitle(cat) for cat in nominees_posthumous['category'].unique()])\n",
    "plt.ylabel(\"Age (in years)\")\n",
    "nominees_posthumous.groupby('category')['years_after_death'].describe()"
   ]
  },
  {
   "cell_type": "code",
   "execution_count": 81,
   "id": "98770680",
   "metadata": {},
   "outputs": [
    {
     "data": {
      "text/plain": [
       "count    12976.000000\n",
       "mean        56.585465\n",
       "std         11.945435\n",
       "min         19.000000\n",
       "25%         48.000000\n",
       "50%         56.000000\n",
       "75%         65.000000\n",
       "max         97.000000\n",
       "Name: age, dtype: float64"
      ]
     },
     "execution_count": 81,
     "metadata": {},
     "output_type": "execute_result"
    },
    {
     "data": {
      "image/png": "[encoded data removed]",
      "text/plain": [
       "<Figure size 432x288 with 1 Axes>"
      ]
     },
     "metadata": {
      "needs_background": "light"
     },
     "output_type": "display_data"
    }
   ],
   "source": [
    "nominees_alive = nominees_people[nominees_people['year']<nominees_people['Year, Death']]\n",
    "nominees_alive.boxplot(column = ['age'])\n",
    "plt.title(\"Nobel Prize Nominee Age of Nomination Distribution (Known to be Alive at time of Nomination)\")\n",
    "plt.ylabel(\"Age (in years)\")\n",
    "nominees_alive['age'].describe()"
   ]
  },
  {
   "cell_type": "markdown",
   "id": "e9cc4fdf",
   "metadata": {},
   "source": [
    "IMPORTANT NOTE: This is not the complete set of nominees alive at time of nomination because there are many nominees that do not have a recorded year of death, even though they have indeed died. But to go through and correct each faulty observation is not feasible. Therefore, the best course of action was to reduce the extent of the dataset to nominees that were known to be alive at the time of nomination. \n",
    "\n",
    "For nominees known to be alive at the time of their nomination (i.e. Year, Death is not a null value for the column), the mean age to recieve a nomination is 56 years old. The 25th percentile is 48 years old and the 75th percentile is 65 years old. The old age of nominees makes sense, since the nobel prize is a lifetime achievement award. Thus, it takes time to accumulate the requisite accomplishments that are worthy of a nomination for the nobel prize."
   ]
  },
  {
   "cell_type": "code",
   "execution_count": 82,
   "id": "3f65668d",
   "metadata": {},
   "outputs": [
    {
     "data": {
      "text/html": [
       "<div>\n",
       "<style scoped>\n",
       "    .dataframe tbody tr th:only-of-type {\n",
       "        vertical-align: middle;\n",
       "    }\n",
       "\n",
       "    .dataframe tbody tr th {\n",
       "        vertical-align: top;\n",
       "    }\n",
       "\n",
       "    .dataframe thead th {\n",
       "        text-align: right;\n",
       "    }\n",
       "</style>\n",
       "<table border=\"1\" class=\"dataframe\">\n",
       "  <thead>\n",
       "    <tr style=\"text-align: right;\">\n",
       "      <th></th>\n",
       "      <th>count</th>\n",
       "      <th>mean</th>\n",
       "      <th>std</th>\n",
       "      <th>min</th>\n",
       "      <th>25%</th>\n",
       "      <th>50%</th>\n",
       "      <th>75%</th>\n",
       "      <th>max</th>\n",
       "    </tr>\n",
       "    <tr>\n",
       "      <th>category</th>\n",
       "      <th></th>\n",
       "      <th></th>\n",
       "      <th></th>\n",
       "      <th></th>\n",
       "      <th></th>\n",
       "      <th></th>\n",
       "      <th></th>\n",
       "      <th></th>\n",
       "    </tr>\n",
       "  </thead>\n",
       "  <tbody>\n",
       "    <tr>\n",
       "      <th>Nomination for Nobel Prize in Chemistry</th>\n",
       "      <td>3018.0</td>\n",
       "      <td>55.098410</td>\n",
       "      <td>11.040165</td>\n",
       "      <td>29.0</td>\n",
       "      <td>47.0</td>\n",
       "      <td>54.0</td>\n",
       "      <td>63.0</td>\n",
       "      <td>96.0</td>\n",
       "    </tr>\n",
       "    <tr>\n",
       "      <th>Nomination for Nobel Prize in Literature</th>\n",
       "      <td>2833.0</td>\n",
       "      <td>63.787151</td>\n",
       "      <td>11.892388</td>\n",
       "      <td>29.0</td>\n",
       "      <td>56.0</td>\n",
       "      <td>63.0</td>\n",
       "      <td>71.0</td>\n",
       "      <td>97.0</td>\n",
       "    </tr>\n",
       "    <tr>\n",
       "      <th>Nomination for Nobel Prize in Physics</th>\n",
       "      <td>3256.0</td>\n",
       "      <td>50.507371</td>\n",
       "      <td>10.437199</td>\n",
       "      <td>19.0</td>\n",
       "      <td>43.0</td>\n",
       "      <td>50.0</td>\n",
       "      <td>57.0</td>\n",
       "      <td>87.0</td>\n",
       "    </tr>\n",
       "    <tr>\n",
       "      <th>Nomination for Nobel Prize in Physiology or Medicine</th>\n",
       "      <td>3869.0</td>\n",
       "      <td>57.587232</td>\n",
       "      <td>10.796053</td>\n",
       "      <td>25.0</td>\n",
       "      <td>50.0</td>\n",
       "      <td>57.0</td>\n",
       "      <td>65.0</td>\n",
       "      <td>85.0</td>\n",
       "    </tr>\n",
       "  </tbody>\n",
       "</table>\n",
       "</div>"
      ],
      "text/plain": [
       "                                                     count       mean  \\\n",
       "category                                                                \n",
       "Nomination for Nobel Prize in Chemistry             3018.0  55.098410   \n",
       "Nomination for Nobel Prize in Literature            2833.0  63.787151   \n",
       "Nomination for Nobel Prize in Physics               3256.0  50.507371   \n",
       "Nomination for Nobel Prize in Physiology or Med...  3869.0  57.587232   \n",
       "\n",
       "                                                          std   min   25%  \\\n",
       "category                                                                    \n",
       "Nomination for Nobel Prize in Chemistry             11.040165  29.0  47.0   \n",
       "Nomination for Nobel Prize in Literature            11.892388  29.0  56.0   \n",
       "Nomination for Nobel Prize in Physics               10.437199  19.0  43.0   \n",
       "Nomination for Nobel Prize in Physiology or Med...  10.796053  25.0  50.0   \n",
       "\n",
       "                                                     50%   75%   max  \n",
       "category                                                              \n",
       "Nomination for Nobel Prize in Chemistry             54.0  63.0  96.0  \n",
       "Nomination for Nobel Prize in Literature            63.0  71.0  97.0  \n",
       "Nomination for Nobel Prize in Physics               50.0  57.0  87.0  \n",
       "Nomination for Nobel Prize in Physiology or Med...  57.0  65.0  85.0  "
      ]
     },
     "execution_count": 82,
     "metadata": {},
     "output_type": "execute_result"
    },
    {
     "data": {
      "image/png": "[encoded data removed]",
      "text/plain": [
       "<Figure size 432x288 with 1 Axes>"
      ]
     },
     "metadata": {
      "needs_background": "light"
     },
     "output_type": "display_data"
    }
   ],
   "source": [
    "nominees_alive.boxplot(column = ['age'], by = ['category'])\n",
    "plt.suptitle(\"Nobel Prize Nominee Age of Nomination Distribution (Known to be Alive at time of Nomination)\", y = 1.02)\n",
    "plt.xticks([1, 2, 3, 4], [getSubtitle(cat) for cat in nominees_alive['category'].unique()])\n",
    "plt.ylabel(\"Age (in years)\")\n",
    "nominees_alive.groupby('category')['age'].describe()"
   ]
  },
  {
   "cell_type": "code",
   "execution_count": 83,
   "id": "ffdd45c0",
   "metadata": {},
   "outputs": [
    {
     "data": {
      "text/html": [
       "<div>\n",
       "<style scoped>\n",
       "    .dataframe tbody tr th:only-of-type {\n",
       "        vertical-align: middle;\n",
       "    }\n",
       "\n",
       "    .dataframe tbody tr th {\n",
       "        vertical-align: top;\n",
       "    }\n",
       "\n",
       "    .dataframe thead th {\n",
       "        text-align: right;\n",
       "    }\n",
       "</style>\n",
       "<table border=\"1\" class=\"dataframe\">\n",
       "  <thead>\n",
       "    <tr style=\"text-align: right;\">\n",
       "      <th></th>\n",
       "      <th>year</th>\n",
       "      <th>Year, Birth</th>\n",
       "      <th>Year, Death</th>\n",
       "    </tr>\n",
       "  </thead>\n",
       "  <tbody>\n",
       "    <tr>\n",
       "      <th>count</th>\n",
       "      <td>18792.000000</td>\n",
       "      <td>5229.000000</td>\n",
       "      <td>4912.000000</td>\n",
       "    </tr>\n",
       "    <tr>\n",
       "      <th>mean</th>\n",
       "      <td>1935.366379</td>\n",
       "      <td>1879.694397</td>\n",
       "      <td>1960.376221</td>\n",
       "    </tr>\n",
       "    <tr>\n",
       "      <th>std</th>\n",
       "      <td>19.709333</td>\n",
       "      <td>24.532483</td>\n",
       "      <td>25.842870</td>\n",
       "    </tr>\n",
       "    <tr>\n",
       "      <th>min</th>\n",
       "      <td>1901.000000</td>\n",
       "      <td>1647.000000</td>\n",
       "      <td>1885.000000</td>\n",
       "    </tr>\n",
       "    <tr>\n",
       "      <th>25%</th>\n",
       "      <td>1919.000000</td>\n",
       "      <td>1862.000000</td>\n",
       "      <td>1940.000000</td>\n",
       "    </tr>\n",
       "    <tr>\n",
       "      <th>50%</th>\n",
       "      <td>1935.000000</td>\n",
       "      <td>1882.000000</td>\n",
       "      <td>1964.000000</td>\n",
       "    </tr>\n",
       "    <tr>\n",
       "      <th>75%</th>\n",
       "      <td>1953.000000</td>\n",
       "      <td>1899.000000</td>\n",
       "      <td>1980.000000</td>\n",
       "    </tr>\n",
       "    <tr>\n",
       "      <th>max</th>\n",
       "      <td>1967.000000</td>\n",
       "      <td>1956.000000</td>\n",
       "      <td>2017.000000</td>\n",
       "    </tr>\n",
       "  </tbody>\n",
       "</table>\n",
       "</div>"
      ],
      "text/plain": [
       "               year  Year, Birth  Year, Death\n",
       "count  18792.000000  5229.000000  4912.000000\n",
       "mean    1935.366379  1879.694397  1960.376221\n",
       "std       19.709333    24.532483    25.842870\n",
       "min     1901.000000  1647.000000  1885.000000\n",
       "25%     1919.000000  1862.000000  1940.000000\n",
       "50%     1935.000000  1882.000000  1964.000000\n",
       "75%     1953.000000  1899.000000  1980.000000\n",
       "max     1967.000000  1956.000000  2017.000000"
      ]
     },
     "execution_count": 83,
     "metadata": {},
     "output_type": "execute_result"
    }
   ],
   "source": [
    "nominators.describe()"
   ]
  },
  {
   "cell_type": "code",
   "execution_count": 84,
   "id": "5d3da499",
   "metadata": {},
   "outputs": [],
   "source": [
    "nominators_people = nominators.loc[nominators['Year, Birth'] > 1800] #filtering out non-human nominees where birth year is given\n",
    "'''Rows contained nominators that somehow made nomiations before they were born.\n",
    "The reason for these errors was not clear so they were simply dropped from the analysis'''\n",
    "nominators_people = nominators_people.drop(895)\n",
    "nominators_people = nominators_people.drop(14083)\n",
    "\n",
    "\n",
    "nominators_people.loc[nominators_people['Year, Birth'] > nominators_people['Year, Death'], 'Year, Birth'] = nominators_people['Year, Birth'].sub(100)\n",
    "nominators_people['age'] = getAge(nominators_people['Year, Birth'], nominators_people['year'])"
   ]
  },
  {
   "cell_type": "code",
   "execution_count": 85,
   "id": "a20e301c",
   "metadata": {},
   "outputs": [
    {
     "data": {
      "text/plain": [
       "count    5220.000000\n",
       "mean       59.298084\n",
       "std        12.388751\n",
       "min         2.000000\n",
       "25%        51.000000\n",
       "50%        59.000000\n",
       "75%        68.000000\n",
       "max       156.000000\n",
       "Name: age, dtype: float64"
      ]
     },
     "execution_count": 85,
     "metadata": {},
     "output_type": "execute_result"
    },
    {
     "data": {
      "image/png": "[encoded data removed]",
      "text/plain": [
       "<Figure size 432x288 with 1 Axes>"
      ]
     },
     "metadata": {
      "needs_background": "light"
     },
     "output_type": "display_data"
    }
   ],
   "source": [
    "nominators_people.boxplot(column = ['age'])\n",
    "nominators_people['age'].describe()"
   ]
  },
  {
   "cell_type": "markdown",
   "id": "2d1c7167",
   "metadata": {},
   "source": [
    "Clearly there are still some data errors present as there is no way that nominations could be made at the age of two. However, overall the distribution suggests that the mean age of nomination is 59, the 75th percentile is 68, and the 25th percentile if 51. Older people tend to comprise the nominators as it takes a large body of work and prestige to be named a nobel prize nominator."
   ]
  },
  {
   "cell_type": "code",
   "execution_count": 86,
   "id": "5e61ad14",
   "metadata": {},
   "outputs": [
    {
     "data": {
      "text/plain": [
       "count    5220.000000\n",
       "mean       59.298084\n",
       "std        12.388751\n",
       "min         2.000000\n",
       "25%        51.000000\n",
       "50%        59.000000\n",
       "75%        68.000000\n",
       "max       156.000000\n",
       "Name: age, dtype: float64"
      ]
     },
     "execution_count": 86,
     "metadata": {},
     "output_type": "execute_result"
    },
    {
     "data": {
      "image/png": "[encoded data removed]",
      "text/plain": [
       "<Figure size 432x288 with 1 Axes>"
      ]
     },
     "metadata": {
      "needs_background": "light"
     },
     "output_type": "display_data"
    }
   ],
   "source": [
    "nominators_people.boxplot(column = ['age'], by = ['category'])\n",
    "plt.suptitle(\"Nobel Prize Nominator Age of Nomination Distribution\", y = 1.02)\n",
    "plt.xticks([1, 2, 3, 4, 5], [getSubtitle(cat) for cat in nominators_people['category'].unique()])\n",
    "nominators_people['age'].describe()"
   ]
  },
  {
   "cell_type": "markdown",
   "id": "1f4c3fd4",
   "metadata": {},
   "source": [
    "A cluster in the Chemistry distribution below the 25th percentile appears to be where the error is occuring."
   ]
  },
  {
   "cell_type": "markdown",
   "id": "b91296d0",
   "metadata": {},
   "source": [
    "# Do Women Nominate Other Women More Frequently Then Men?"
   ]
  },
  {
   "cell_type": "code",
   "execution_count": 1,
   "id": "c53a2519",
   "metadata": {},
   "outputs": [
    {
     "ename": "NameError",
     "evalue": "name 'nobel_data' is not defined",
     "output_type": "error",
     "traceback": [
      "\u001b[0;31m---------------------------------------------------------------------------\u001b[0m",
      "\u001b[0;31mNameError\u001b[0m                                 Traceback (most recent call last)",
      "\u001b[0;32m/var/folders/sf/z2b9zp717xb2vw6wy0l0_jh00000gn/T/ipykernel_76706/3231516238.py\u001b[0m in \u001b[0;36m<module>\u001b[0;34m\u001b[0m\n\u001b[0;32m----> 1\u001b[0;31m \u001b[0mnobel_data\u001b[0m\u001b[0;34m.\u001b[0m\u001b[0mgroupby\u001b[0m\u001b[0;34m(\u001b[0m\u001b[0;34m'url'\u001b[0m\u001b[0;34m)\u001b[0m\u001b[0;34m\u001b[0m\u001b[0;34m\u001b[0m\u001b[0m\n\u001b[0m",
      "\u001b[0;31mNameError\u001b[0m: name 'nobel_data' is not defined"
     ]
    }
   ],
   "source": [
    "nobel_data.groupby('url')"
   ]
  },
  {
   "cell_type": "code",
   "execution_count": null,
   "id": "cc1bc810",
   "metadata": {},
   "outputs": [],
   "source": []
  }
 ],
 "metadata": {
  "hide_input": false,
  "kernelspec": {
   "display_name": "Python 3 (ipykernel)",
   "language": "python",
   "name": "python3"
  },
  "language_info": {
   "codemirror_mode": {
    "name": "ipython",
    "version": 3
   },
   "file_extension": ".py",
   "mimetype": "text/x-python",
   "name": "python",
   "nbconvert_exporter": "python",
   "pygments_lexer": "ipython3",
   "version": "3.9.5"
  }
 },
 "nbformat": 4,
 "nbformat_minor": 5
}
